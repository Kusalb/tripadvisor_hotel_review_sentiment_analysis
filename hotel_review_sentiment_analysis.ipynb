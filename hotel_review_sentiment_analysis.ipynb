{
 "cells": [
  {
   "cell_type": "markdown",
   "id": "6730fecf",
   "metadata": {},
   "source": [
    "## Assignment 1\n",
    "Kusal Bista\n",
    "1881044"
   ]
  },
  {
   "cell_type": "markdown",
   "id": "d7594396-94f8-4955-8d15-da343d841d26",
   "metadata": {},
   "source": [
    "#### Importing Libraries"
   ]
  },
  {
   "cell_type": "code",
   "execution_count": 2,
   "id": "0c33fd05",
   "metadata": {},
   "outputs": [
    {
     "name": "stdout",
     "output_type": "stream",
     "text": [
      "WARNING:tensorflow:From C:\\ProgramData\\Anaconda3\\Lib\\site-packages\\keras\\src\\losses.py:2976: The name tf.losses.sparse_softmax_cross_entropy is deprecated. Please use tf.compat.v1.losses.sparse_softmax_cross_entropy instead.\n",
      "\n"
     ]
    }
   ],
   "source": [
    "import warnings\n",
    "warnings.filterwarnings('always')\n",
    "warnings.filterwarnings('ignore')\n",
    "\n",
    "import re\n",
    "import string\n",
    "import nltk\n",
    "\n",
    "from nltk.corpus import stopwords\n",
    "from nltk.tokenize import word_tokenize\n",
    "from nltk.probability import FreqDist\n",
    "from nltk import ngrams\n",
    "from collections import Counter\n",
    "\n",
    "import spacy\n",
    "import numpy as np\n",
    "import pandas as pd\n",
    "import seaborn as sns\n",
    "import tensorflow as tf\n",
    "import matplotlib.pyplot as plt\n",
    "\n",
    "from tensorflow.keras.callbacks import ReduceLROnPlateau\n",
    "from tensorflow.keras.models import Sequential\n",
    "from tensorflow.keras.layers import Dense, Dropout, Flatten, Conv2D, MaxPooling2D, Embedding, Bidirectional, LSTM\n",
    "from sklearn.metrics import classification_report, confusion_matrix, r2_score, accuracy_score, f1_score\n",
    "from sklearn.model_selection import train_test_split, GridSearchCV, StratifiedKFold, cross_val_score\n",
    "from sklearn.feature_extraction.text import CountVectorizer, TfidfVectorizer\n",
    "from sklearn.naive_bayes import MultinomialNB\n",
    "from sklearn.svm import SVC\n",
    "from sklearn.ensemble import RandomForestClassifier\n",
    "from sklearn.linear_model import LinearRegression\n",
    "from sklearn.neighbors import KNeighborsClassifier\n",
    "from sklearn.datasets import make_classification\n",
    "from sklearn.utils import resample\n",
    "\n",
    "nlp = spacy.load('en_core_web_sm')\n"
   ]
  },
  {
   "cell_type": "code",
   "execution_count": 3,
   "id": "b4676263-bbb2-486f-83c3-064f21e20af0",
   "metadata": {},
   "outputs": [],
   "source": [
    "# !pip install seaborn\n",
    "# !pip install nltk\n",
    "# !pip install spacy\n",
    "# !python -m spacy download \"en_core_web_sm"
   ]
  },
  {
   "cell_type": "markdown",
   "id": "3df2aac6",
   "metadata": {},
   "source": [
    "### 1. Reading datasets"
   ]
  },
  {
   "cell_type": "markdown",
   "id": "1524a767",
   "metadata": {},
   "source": [
    "#### 1.1 Loading Dataset"
   ]
  },
  {
   "cell_type": "code",
   "execution_count": 116,
   "id": "e967e07b",
   "metadata": {},
   "outputs": [],
   "source": [
    "hotel_reviews = pd.read_json('random_30000_hotel_review.json', encoding='utf-8-sig')"
   ]
  },
  {
   "cell_type": "code",
   "execution_count": 117,
   "id": "027ccf1d",
   "metadata": {},
   "outputs": [
    {
     "name": "stdout",
     "output_type": "stream",
     "text": [
      "<class 'pandas.core.frame.DataFrame'>\n",
      "RangeIndex: 30000 entries, 0 to 29999\n",
      "Data columns (total 10 columns):\n",
      " #   Column             Non-Null Count  Dtype         \n",
      "---  ------             --------------  -----         \n",
      " 0   ratings            30000 non-null  object        \n",
      " 1   title              30000 non-null  object        \n",
      " 2   text               30000 non-null  object        \n",
      " 3   author             30000 non-null  object        \n",
      " 4   date_stayed        28806 non-null  object        \n",
      " 5   offering_id        30000 non-null  int64         \n",
      " 6   num_helpful_votes  30000 non-null  int64         \n",
      " 7   date               30000 non-null  datetime64[ns]\n",
      " 8   id                 30000 non-null  int64         \n",
      " 9   via_mobile         30000 non-null  bool          \n",
      "dtypes: bool(1), datetime64[ns](1), int64(3), object(5)\n",
      "memory usage: 2.1+ MB\n"
     ]
    }
   ],
   "source": [
    "hotel_reviews.info()"
   ]
  },
  {
   "cell_type": "code",
   "execution_count": 118,
   "id": "dbfd9b0c",
   "metadata": {},
   "outputs": [
    {
     "data": {
      "text/html": [
       "<div>\n",
       "<style scoped>\n",
       "    .dataframe tbody tr th:only-of-type {\n",
       "        vertical-align: middle;\n",
       "    }\n",
       "\n",
       "    .dataframe tbody tr th {\n",
       "        vertical-align: top;\n",
       "    }\n",
       "\n",
       "    .dataframe thead th {\n",
       "        text-align: right;\n",
       "    }\n",
       "</style>\n",
       "<table border=\"1\" class=\"dataframe\">\n",
       "  <thead>\n",
       "    <tr style=\"text-align: right;\">\n",
       "      <th></th>\n",
       "      <th>ratings</th>\n",
       "      <th>title</th>\n",
       "      <th>text</th>\n",
       "      <th>author</th>\n",
       "      <th>date_stayed</th>\n",
       "      <th>offering_id</th>\n",
       "      <th>num_helpful_votes</th>\n",
       "      <th>date</th>\n",
       "      <th>id</th>\n",
       "      <th>via_mobile</th>\n",
       "    </tr>\n",
       "  </thead>\n",
       "  <tbody>\n",
       "    <tr>\n",
       "      <th>0</th>\n",
       "      <td>{'service': 1.0, 'cleanliness': 2.0, 'overall'...</td>\n",
       "      <td>“Horrible experience”</td>\n",
       "      <td>First of all we got there and they didn't have...</td>\n",
       "      <td>{'username': 'Kh3RD', 'num_reviews': 1, 'id': ...</td>\n",
       "      <td>September 2012</td>\n",
       "      <td>80138</td>\n",
       "      <td>0</td>\n",
       "      <td>2012-09-19</td>\n",
       "      <td>140716137</td>\n",
       "      <td>False</td>\n",
       "    </tr>\n",
       "    <tr>\n",
       "      <th>1</th>\n",
       "      <td>{'cleanliness': 1.0, 'sleep_quality': 1.0, 'ov...</td>\n",
       "      <td>“Stay Away”</td>\n",
       "      <td>Found Racist graffiti in the room. Request to ...</td>\n",
       "      <td>{'username': 'TheUglyPhotographer', 'num_citie...</td>\n",
       "      <td>June 2011</td>\n",
       "      <td>240151</td>\n",
       "      <td>1</td>\n",
       "      <td>2011-06-27</td>\n",
       "      <td>114807323</td>\n",
       "      <td>False</td>\n",
       "    </tr>\n",
       "    <tr>\n",
       "      <th>2</th>\n",
       "      <td>{'service': 4.0, 'cleanliness': 5.0, 'overall'...</td>\n",
       "      <td>“Great location and service”</td>\n",
       "      <td>Close to Union Square - hotel is a bit of a ma...</td>\n",
       "      <td>{'username': 'Moonstonemoclips', 'num_cities':...</td>\n",
       "      <td>October 2010</td>\n",
       "      <td>80793</td>\n",
       "      <td>0</td>\n",
       "      <td>2010-10-25</td>\n",
       "      <td>84805430</td>\n",
       "      <td>False</td>\n",
       "    </tr>\n",
       "    <tr>\n",
       "      <th>3</th>\n",
       "      <td>{'service': 3.0, 'cleanliness': 2.0, 'overall'...</td>\n",
       "      <td>“I will never go back here again!”</td>\n",
       "      <td>I had a bad vibe about this place from the mom...</td>\n",
       "      <td>{'username': 'JoanellenJ', 'num_cities': 10, '...</td>\n",
       "      <td>June 2012</td>\n",
       "      <td>111418</td>\n",
       "      <td>1</td>\n",
       "      <td>2012-06-28</td>\n",
       "      <td>132971117</td>\n",
       "      <td>False</td>\n",
       "    </tr>\n",
       "    <tr>\n",
       "      <th>4</th>\n",
       "      <td>{'overall': 1.0}</td>\n",
       "      <td>“Ripped off our VISA card after departure”</td>\n",
       "      <td>After we received our \"final\" bill and left th...</td>\n",
       "      <td>{'username': 'Lynnworks', 'num_cities': 3, 'nu...</td>\n",
       "      <td>January 2012</td>\n",
       "      <td>671150</td>\n",
       "      <td>3</td>\n",
       "      <td>2012-02-04</td>\n",
       "      <td>124104157</td>\n",
       "      <td>False</td>\n",
       "    </tr>\n",
       "  </tbody>\n",
       "</table>\n",
       "</div>"
      ],
      "text/plain": [
       "                                             ratings  \\\n",
       "0  {'service': 1.0, 'cleanliness': 2.0, 'overall'...   \n",
       "1  {'cleanliness': 1.0, 'sleep_quality': 1.0, 'ov...   \n",
       "2  {'service': 4.0, 'cleanliness': 5.0, 'overall'...   \n",
       "3  {'service': 3.0, 'cleanliness': 2.0, 'overall'...   \n",
       "4                                   {'overall': 1.0}   \n",
       "\n",
       "                                        title  \\\n",
       "0                       “Horrible experience”   \n",
       "1                                 “Stay Away”   \n",
       "2                “Great location and service”   \n",
       "3          “I will never go back here again!”   \n",
       "4  “Ripped off our VISA card after departure”   \n",
       "\n",
       "                                                text  \\\n",
       "0  First of all we got there and they didn't have...   \n",
       "1  Found Racist graffiti in the room. Request to ...   \n",
       "2  Close to Union Square - hotel is a bit of a ma...   \n",
       "3  I had a bad vibe about this place from the mom...   \n",
       "4  After we received our \"final\" bill and left th...   \n",
       "\n",
       "                                              author     date_stayed  \\\n",
       "0  {'username': 'Kh3RD', 'num_reviews': 1, 'id': ...  September 2012   \n",
       "1  {'username': 'TheUglyPhotographer', 'num_citie...       June 2011   \n",
       "2  {'username': 'Moonstonemoclips', 'num_cities':...    October 2010   \n",
       "3  {'username': 'JoanellenJ', 'num_cities': 10, '...       June 2012   \n",
       "4  {'username': 'Lynnworks', 'num_cities': 3, 'nu...    January 2012   \n",
       "\n",
       "   offering_id  num_helpful_votes       date         id  via_mobile  \n",
       "0        80138                  0 2012-09-19  140716137       False  \n",
       "1       240151                  1 2011-06-27  114807323       False  \n",
       "2        80793                  0 2010-10-25   84805430       False  \n",
       "3       111418                  1 2012-06-28  132971117       False  \n",
       "4       671150                  3 2012-02-04  124104157       False  "
      ]
     },
     "execution_count": 118,
     "metadata": {},
     "output_type": "execute_result"
    }
   ],
   "source": [
    "hotel_reviews.head()"
   ]
  },
  {
   "cell_type": "code",
   "execution_count": 7,
   "id": "282d5edf",
   "metadata": {},
   "outputs": [
    {
     "name": "stderr",
     "output_type": "stream",
     "text": [
      "[nltk_data] Downloading package punkt to\n",
      "[nltk_data]     C:\\Users\\a1881044\\AppData\\Roaming\\nltk_data...\n",
      "[nltk_data]   Package punkt is already up-to-date!\n",
      "[nltk_data] Downloading package stopwords to\n",
      "[nltk_data]     C:\\Users\\a1881044\\AppData\\Roaming\\nltk_data...\n",
      "[nltk_data]   Package stopwords is already up-to-date!\n"
     ]
    },
    {
     "data": {
      "text/plain": [
       "True"
      ]
     },
     "execution_count": 7,
     "metadata": {},
     "output_type": "execute_result"
    }
   ],
   "source": [
    "nltk.download('punkt')\n",
    "nltk.download('stopwords')"
   ]
  },
  {
   "cell_type": "markdown",
   "id": "dbf820e9",
   "metadata": {},
   "source": [
    "#### 1.2 Concatenating Text and Title"
   ]
  },
  {
   "cell_type": "code",
   "execution_count": 119,
   "id": "ac043810",
   "metadata": {},
   "outputs": [],
   "source": [
    "hotel_reviews['text'] = hotel_reviews['title'].astype(str) + ' ' + hotel_reviews['text'].astype(str)"
   ]
  },
  {
   "cell_type": "code",
   "execution_count": 120,
   "id": "674d710a",
   "metadata": {},
   "outputs": [
    {
     "data": {
      "text/html": [
       "<div>\n",
       "<style scoped>\n",
       "    .dataframe tbody tr th:only-of-type {\n",
       "        vertical-align: middle;\n",
       "    }\n",
       "\n",
       "    .dataframe tbody tr th {\n",
       "        vertical-align: top;\n",
       "    }\n",
       "\n",
       "    .dataframe thead th {\n",
       "        text-align: right;\n",
       "    }\n",
       "</style>\n",
       "<table border=\"1\" class=\"dataframe\">\n",
       "  <thead>\n",
       "    <tr style=\"text-align: right;\">\n",
       "      <th></th>\n",
       "      <th>ratings</th>\n",
       "      <th>title</th>\n",
       "      <th>text</th>\n",
       "      <th>author</th>\n",
       "      <th>date_stayed</th>\n",
       "      <th>offering_id</th>\n",
       "      <th>num_helpful_votes</th>\n",
       "      <th>date</th>\n",
       "      <th>id</th>\n",
       "      <th>via_mobile</th>\n",
       "    </tr>\n",
       "  </thead>\n",
       "  <tbody>\n",
       "    <tr>\n",
       "      <th>0</th>\n",
       "      <td>{'service': 1.0, 'cleanliness': 2.0, 'overall'...</td>\n",
       "      <td>“Horrible experience”</td>\n",
       "      <td>“Horrible experience” First of all we got ther...</td>\n",
       "      <td>{'username': 'Kh3RD', 'num_reviews': 1, 'id': ...</td>\n",
       "      <td>September 2012</td>\n",
       "      <td>80138</td>\n",
       "      <td>0</td>\n",
       "      <td>2012-09-19</td>\n",
       "      <td>140716137</td>\n",
       "      <td>False</td>\n",
       "    </tr>\n",
       "    <tr>\n",
       "      <th>1</th>\n",
       "      <td>{'cleanliness': 1.0, 'sleep_quality': 1.0, 'ov...</td>\n",
       "      <td>“Stay Away”</td>\n",
       "      <td>“Stay Away” Found Racist graffiti in the room....</td>\n",
       "      <td>{'username': 'TheUglyPhotographer', 'num_citie...</td>\n",
       "      <td>June 2011</td>\n",
       "      <td>240151</td>\n",
       "      <td>1</td>\n",
       "      <td>2011-06-27</td>\n",
       "      <td>114807323</td>\n",
       "      <td>False</td>\n",
       "    </tr>\n",
       "    <tr>\n",
       "      <th>2</th>\n",
       "      <td>{'service': 4.0, 'cleanliness': 5.0, 'overall'...</td>\n",
       "      <td>“Great location and service”</td>\n",
       "      <td>“Great location and service” Close to Union Sq...</td>\n",
       "      <td>{'username': 'Moonstonemoclips', 'num_cities':...</td>\n",
       "      <td>October 2010</td>\n",
       "      <td>80793</td>\n",
       "      <td>0</td>\n",
       "      <td>2010-10-25</td>\n",
       "      <td>84805430</td>\n",
       "      <td>False</td>\n",
       "    </tr>\n",
       "    <tr>\n",
       "      <th>3</th>\n",
       "      <td>{'service': 3.0, 'cleanliness': 2.0, 'overall'...</td>\n",
       "      <td>“I will never go back here again!”</td>\n",
       "      <td>“I will never go back here again!” I had a bad...</td>\n",
       "      <td>{'username': 'JoanellenJ', 'num_cities': 10, '...</td>\n",
       "      <td>June 2012</td>\n",
       "      <td>111418</td>\n",
       "      <td>1</td>\n",
       "      <td>2012-06-28</td>\n",
       "      <td>132971117</td>\n",
       "      <td>False</td>\n",
       "    </tr>\n",
       "    <tr>\n",
       "      <th>4</th>\n",
       "      <td>{'overall': 1.0}</td>\n",
       "      <td>“Ripped off our VISA card after departure”</td>\n",
       "      <td>“Ripped off our VISA card after departure” Aft...</td>\n",
       "      <td>{'username': 'Lynnworks', 'num_cities': 3, 'nu...</td>\n",
       "      <td>January 2012</td>\n",
       "      <td>671150</td>\n",
       "      <td>3</td>\n",
       "      <td>2012-02-04</td>\n",
       "      <td>124104157</td>\n",
       "      <td>False</td>\n",
       "    </tr>\n",
       "  </tbody>\n",
       "</table>\n",
       "</div>"
      ],
      "text/plain": [
       "                                             ratings  \\\n",
       "0  {'service': 1.0, 'cleanliness': 2.0, 'overall'...   \n",
       "1  {'cleanliness': 1.0, 'sleep_quality': 1.0, 'ov...   \n",
       "2  {'service': 4.0, 'cleanliness': 5.0, 'overall'...   \n",
       "3  {'service': 3.0, 'cleanliness': 2.0, 'overall'...   \n",
       "4                                   {'overall': 1.0}   \n",
       "\n",
       "                                        title  \\\n",
       "0                       “Horrible experience”   \n",
       "1                                 “Stay Away”   \n",
       "2                “Great location and service”   \n",
       "3          “I will never go back here again!”   \n",
       "4  “Ripped off our VISA card after departure”   \n",
       "\n",
       "                                                text  \\\n",
       "0  “Horrible experience” First of all we got ther...   \n",
       "1  “Stay Away” Found Racist graffiti in the room....   \n",
       "2  “Great location and service” Close to Union Sq...   \n",
       "3  “I will never go back here again!” I had a bad...   \n",
       "4  “Ripped off our VISA card after departure” Aft...   \n",
       "\n",
       "                                              author     date_stayed  \\\n",
       "0  {'username': 'Kh3RD', 'num_reviews': 1, 'id': ...  September 2012   \n",
       "1  {'username': 'TheUglyPhotographer', 'num_citie...       June 2011   \n",
       "2  {'username': 'Moonstonemoclips', 'num_cities':...    October 2010   \n",
       "3  {'username': 'JoanellenJ', 'num_cities': 10, '...       June 2012   \n",
       "4  {'username': 'Lynnworks', 'num_cities': 3, 'nu...    January 2012   \n",
       "\n",
       "   offering_id  num_helpful_votes       date         id  via_mobile  \n",
       "0        80138                  0 2012-09-19  140716137       False  \n",
       "1       240151                  1 2011-06-27  114807323       False  \n",
       "2        80793                  0 2010-10-25   84805430       False  \n",
       "3       111418                  1 2012-06-28  132971117       False  \n",
       "4       671150                  3 2012-02-04  124104157       False  "
      ]
     },
     "execution_count": 120,
     "metadata": {},
     "output_type": "execute_result"
    }
   ],
   "source": [
    "hotel_reviews.head()"
   ]
  },
  {
   "cell_type": "markdown",
   "id": "c885320e",
   "metadata": {},
   "source": [
    "#### 1.3 Moving all non-alphanumeric characters and tokenising the text."
   ]
  },
  {
   "cell_type": "code",
   "execution_count": 121,
   "id": "a8b0b846",
   "metadata": {},
   "outputs": [],
   "source": [
    "def clean_text(text):\n",
    "    text = re.sub('[^a-z A-Z 0-9-]+', '', text)\n",
    "    # Remove non-ASCII characters\n",
    "    text = ''.join([char for char in text if ord(char) < 128])\n",
    "    # Tokenize the text\n",
    "    tokens = word_tokenize(text)\n",
    "    return \" \".join(tokens)\n",
    "\n",
    "hotel_reviews[\"clean_text\"] = hotel_reviews[\"text\"].apply(clean_text)"
   ]
  },
  {
   "cell_type": "markdown",
   "id": "a8050312",
   "metadata": {},
   "source": [
    "#### 1.3 Opening JSON inside of the rating column "
   ]
  },
  {
   "cell_type": "code",
   "execution_count": 122,
   "id": "d858e9a8",
   "metadata": {},
   "outputs": [],
   "source": [
    "df =hotel_reviews.copy()\n",
    "json_cols = ['ratings']\n",
    "\n",
    "\"Function for decoding JSON\"\n",
    "def clean_json(x):\n",
    "    if isinstance(x, str):\n",
    "        return json.loads(x)\n",
    "    else:\n",
    "        return x\n",
    "\n",
    "for x in json_cols:\n",
    "    df[x] = df[x].apply(clean_json)\n",
    "\n",
    "normalized_cols = pd.json_normalize(df['ratings'])\n",
    "df = df.join(normalized_cols)\n",
    "df = df.drop(json_cols, axis=1)"
   ]
  },
  {
   "cell_type": "code",
   "execution_count": 123,
   "id": "86387ab2",
   "metadata": {},
   "outputs": [
    {
     "data": {
      "text/html": [
       "<div>\n",
       "<style scoped>\n",
       "    .dataframe tbody tr th:only-of-type {\n",
       "        vertical-align: middle;\n",
       "    }\n",
       "\n",
       "    .dataframe tbody tr th {\n",
       "        vertical-align: top;\n",
       "    }\n",
       "\n",
       "    .dataframe thead th {\n",
       "        text-align: right;\n",
       "    }\n",
       "</style>\n",
       "<table border=\"1\" class=\"dataframe\">\n",
       "  <thead>\n",
       "    <tr style=\"text-align: right;\">\n",
       "      <th></th>\n",
       "      <th>title</th>\n",
       "      <th>text</th>\n",
       "      <th>author</th>\n",
       "      <th>date_stayed</th>\n",
       "      <th>offering_id</th>\n",
       "      <th>num_helpful_votes</th>\n",
       "      <th>date</th>\n",
       "      <th>id</th>\n",
       "      <th>via_mobile</th>\n",
       "      <th>clean_text</th>\n",
       "      <th>service</th>\n",
       "      <th>cleanliness</th>\n",
       "      <th>overall</th>\n",
       "      <th>value</th>\n",
       "      <th>location</th>\n",
       "      <th>sleep_quality</th>\n",
       "      <th>rooms</th>\n",
       "      <th>check_in_front_desk</th>\n",
       "      <th>business_service_(e_g_internet_access)</th>\n",
       "    </tr>\n",
       "  </thead>\n",
       "  <tbody>\n",
       "    <tr>\n",
       "      <th>0</th>\n",
       "      <td>“Horrible experience”</td>\n",
       "      <td>“Horrible experience” First of all we got ther...</td>\n",
       "      <td>{'username': 'Kh3RD', 'num_reviews': 1, 'id': ...</td>\n",
       "      <td>September 2012</td>\n",
       "      <td>80138</td>\n",
       "      <td>0</td>\n",
       "      <td>2012-09-19</td>\n",
       "      <td>140716137</td>\n",
       "      <td>False</td>\n",
       "      <td>Horrible experience First of all we got there ...</td>\n",
       "      <td>1.0</td>\n",
       "      <td>2.0</td>\n",
       "      <td>1.0</td>\n",
       "      <td>1.0</td>\n",
       "      <td>3.0</td>\n",
       "      <td>2.0</td>\n",
       "      <td>1.0</td>\n",
       "      <td>NaN</td>\n",
       "      <td>NaN</td>\n",
       "    </tr>\n",
       "    <tr>\n",
       "      <th>1</th>\n",
       "      <td>“Stay Away”</td>\n",
       "      <td>“Stay Away” Found Racist graffiti in the room....</td>\n",
       "      <td>{'username': 'TheUglyPhotographer', 'num_citie...</td>\n",
       "      <td>June 2011</td>\n",
       "      <td>240151</td>\n",
       "      <td>1</td>\n",
       "      <td>2011-06-27</td>\n",
       "      <td>114807323</td>\n",
       "      <td>False</td>\n",
       "      <td>Stay Away Found Racist graffiti in the room Re...</td>\n",
       "      <td>1.0</td>\n",
       "      <td>1.0</td>\n",
       "      <td>1.0</td>\n",
       "      <td>2.0</td>\n",
       "      <td>NaN</td>\n",
       "      <td>1.0</td>\n",
       "      <td>NaN</td>\n",
       "      <td>NaN</td>\n",
       "      <td>NaN</td>\n",
       "    </tr>\n",
       "    <tr>\n",
       "      <th>2</th>\n",
       "      <td>“Great location and service”</td>\n",
       "      <td>“Great location and service” Close to Union Sq...</td>\n",
       "      <td>{'username': 'Moonstonemoclips', 'num_cities':...</td>\n",
       "      <td>October 2010</td>\n",
       "      <td>80793</td>\n",
       "      <td>0</td>\n",
       "      <td>2010-10-25</td>\n",
       "      <td>84805430</td>\n",
       "      <td>False</td>\n",
       "      <td>Great location and service Close to Union Squa...</td>\n",
       "      <td>4.0</td>\n",
       "      <td>5.0</td>\n",
       "      <td>4.0</td>\n",
       "      <td>3.0</td>\n",
       "      <td>5.0</td>\n",
       "      <td>4.0</td>\n",
       "      <td>4.0</td>\n",
       "      <td>NaN</td>\n",
       "      <td>NaN</td>\n",
       "    </tr>\n",
       "    <tr>\n",
       "      <th>3</th>\n",
       "      <td>“I will never go back here again!”</td>\n",
       "      <td>“I will never go back here again!” I had a bad...</td>\n",
       "      <td>{'username': 'JoanellenJ', 'num_cities': 10, '...</td>\n",
       "      <td>June 2012</td>\n",
       "      <td>111418</td>\n",
       "      <td>1</td>\n",
       "      <td>2012-06-28</td>\n",
       "      <td>132971117</td>\n",
       "      <td>False</td>\n",
       "      <td>I will never go back here again I had a bad vi...</td>\n",
       "      <td>3.0</td>\n",
       "      <td>2.0</td>\n",
       "      <td>2.0</td>\n",
       "      <td>1.0</td>\n",
       "      <td>4.0</td>\n",
       "      <td>1.0</td>\n",
       "      <td>1.0</td>\n",
       "      <td>NaN</td>\n",
       "      <td>NaN</td>\n",
       "    </tr>\n",
       "    <tr>\n",
       "      <th>4</th>\n",
       "      <td>“Ripped off our VISA card after departure”</td>\n",
       "      <td>“Ripped off our VISA card after departure” Aft...</td>\n",
       "      <td>{'username': 'Lynnworks', 'num_cities': 3, 'nu...</td>\n",
       "      <td>January 2012</td>\n",
       "      <td>671150</td>\n",
       "      <td>3</td>\n",
       "      <td>2012-02-04</td>\n",
       "      <td>124104157</td>\n",
       "      <td>False</td>\n",
       "      <td>Ripped off our VISA card after departure After...</td>\n",
       "      <td>NaN</td>\n",
       "      <td>NaN</td>\n",
       "      <td>1.0</td>\n",
       "      <td>NaN</td>\n",
       "      <td>NaN</td>\n",
       "      <td>NaN</td>\n",
       "      <td>NaN</td>\n",
       "      <td>NaN</td>\n",
       "      <td>NaN</td>\n",
       "    </tr>\n",
       "  </tbody>\n",
       "</table>\n",
       "</div>"
      ],
      "text/plain": [
       "                                        title  \\\n",
       "0                       “Horrible experience”   \n",
       "1                                 “Stay Away”   \n",
       "2                “Great location and service”   \n",
       "3          “I will never go back here again!”   \n",
       "4  “Ripped off our VISA card after departure”   \n",
       "\n",
       "                                                text  \\\n",
       "0  “Horrible experience” First of all we got ther...   \n",
       "1  “Stay Away” Found Racist graffiti in the room....   \n",
       "2  “Great location and service” Close to Union Sq...   \n",
       "3  “I will never go back here again!” I had a bad...   \n",
       "4  “Ripped off our VISA card after departure” Aft...   \n",
       "\n",
       "                                              author     date_stayed  \\\n",
       "0  {'username': 'Kh3RD', 'num_reviews': 1, 'id': ...  September 2012   \n",
       "1  {'username': 'TheUglyPhotographer', 'num_citie...       June 2011   \n",
       "2  {'username': 'Moonstonemoclips', 'num_cities':...    October 2010   \n",
       "3  {'username': 'JoanellenJ', 'num_cities': 10, '...       June 2012   \n",
       "4  {'username': 'Lynnworks', 'num_cities': 3, 'nu...    January 2012   \n",
       "\n",
       "   offering_id  num_helpful_votes       date         id  via_mobile  \\\n",
       "0        80138                  0 2012-09-19  140716137       False   \n",
       "1       240151                  1 2011-06-27  114807323       False   \n",
       "2        80793                  0 2010-10-25   84805430       False   \n",
       "3       111418                  1 2012-06-28  132971117       False   \n",
       "4       671150                  3 2012-02-04  124104157       False   \n",
       "\n",
       "                                          clean_text  service  cleanliness  \\\n",
       "0  Horrible experience First of all we got there ...      1.0          2.0   \n",
       "1  Stay Away Found Racist graffiti in the room Re...      1.0          1.0   \n",
       "2  Great location and service Close to Union Squa...      4.0          5.0   \n",
       "3  I will never go back here again I had a bad vi...      3.0          2.0   \n",
       "4  Ripped off our VISA card after departure After...      NaN          NaN   \n",
       "\n",
       "   overall  value  location  sleep_quality  rooms  check_in_front_desk  \\\n",
       "0      1.0    1.0       3.0            2.0    1.0                  NaN   \n",
       "1      1.0    2.0       NaN            1.0    NaN                  NaN   \n",
       "2      4.0    3.0       5.0            4.0    4.0                  NaN   \n",
       "3      2.0    1.0       4.0            1.0    1.0                  NaN   \n",
       "4      1.0    NaN       NaN            NaN    NaN                  NaN   \n",
       "\n",
       "   business_service_(e_g_internet_access)  \n",
       "0                                     NaN  \n",
       "1                                     NaN  \n",
       "2                                     NaN  \n",
       "3                                     NaN  \n",
       "4                                     NaN  "
      ]
     },
     "execution_count": 123,
     "metadata": {},
     "output_type": "execute_result"
    }
   ],
   "source": [
    "df.head()"
   ]
  },
  {
   "cell_type": "markdown",
   "id": "afba1c80",
   "metadata": {},
   "source": [
    "#### 1.4  Droping unwanted columns "
   ]
  },
  {
   "cell_type": "code",
   "execution_count": 124,
   "id": "dcc0933a",
   "metadata": {},
   "outputs": [],
   "source": [
    "df_cleaned = df.copy()"
   ]
  },
  {
   "cell_type": "code",
   "execution_count": 125,
   "id": "a6443c02",
   "metadata": {},
   "outputs": [],
   "source": [
    "df_cleaned = df_cleaned.drop(['date', 'sleep_quality', 'rooms', 'check_in_front_desk', 'title', 'text', 'num_helpful_votes', 'author', 'id', 'via_mobile', 'date_stayed', 'offering_id', 'service', 'cleanliness', 'business_service_(e_g_internet_access)','value', 'location'], axis=1)"
   ]
  },
  {
   "cell_type": "markdown",
   "id": "8f20cc51",
   "metadata": {},
   "source": [
    "#### 1.5 Thresholding sentiment from overall"
   ]
  },
  {
   "cell_type": "code",
   "execution_count": 126,
   "id": "c79b9aa0",
   "metadata": {},
   "outputs": [],
   "source": [
    "sentiment = []\n",
    "for i in range(len(df_cleaned['overall'])):\n",
    "    if (df_cleaned['overall'].iloc[i].astype(float)<3.00):\n",
    "        sentiment.append(0)\n",
    "    else:\n",
    "        sentiment.append(1)"
   ]
  },
  {
   "cell_type": "code",
   "execution_count": 127,
   "id": "df916928",
   "metadata": {},
   "outputs": [
    {
     "data": {
      "text/plain": [
       "sentiment\n",
       "1    26026\n",
       "0     3974\n",
       "Name: count, dtype: int64"
      ]
     },
     "execution_count": 127,
     "metadata": {},
     "output_type": "execute_result"
    }
   ],
   "source": [
    "df_cleaned['sentiment']=sentiment\n",
    "df_cleaned['sentiment'].value_counts()"
   ]
  },
  {
   "cell_type": "code",
   "execution_count": 128,
   "id": "d72665e9",
   "metadata": {},
   "outputs": [],
   "source": [
    "df_cleaned = df_cleaned.drop(['overall'], axis=1)"
   ]
  },
  {
   "cell_type": "markdown",
   "id": "3faff83f",
   "metadata": {},
   "source": [
    "#### 1.6 Final dataframe check"
   ]
  },
  {
   "cell_type": "code",
   "execution_count": 129,
   "id": "04d32125",
   "metadata": {},
   "outputs": [
    {
     "name": "stdout",
     "output_type": "stream",
     "text": [
      "<class 'pandas.core.frame.DataFrame'>\n",
      "RangeIndex: 30000 entries, 0 to 29999\n",
      "Data columns (total 2 columns):\n",
      " #   Column      Non-Null Count  Dtype \n",
      "---  ------      --------------  ----- \n",
      " 0   clean_text  30000 non-null  object\n",
      " 1   sentiment   30000 non-null  int64 \n",
      "dtypes: int64(1), object(1)\n",
      "memory usage: 468.9+ KB\n"
     ]
    }
   ],
   "source": [
    "df_cleaned.info()"
   ]
  },
  {
   "cell_type": "code",
   "execution_count": 130,
   "id": "f27d1244-368b-4973-ac7c-bef28dbd37bd",
   "metadata": {},
   "outputs": [
    {
     "data": {
      "text/html": [
       "<div>\n",
       "<style scoped>\n",
       "    .dataframe tbody tr th:only-of-type {\n",
       "        vertical-align: middle;\n",
       "    }\n",
       "\n",
       "    .dataframe tbody tr th {\n",
       "        vertical-align: top;\n",
       "    }\n",
       "\n",
       "    .dataframe thead th {\n",
       "        text-align: right;\n",
       "    }\n",
       "</style>\n",
       "<table border=\"1\" class=\"dataframe\">\n",
       "  <thead>\n",
       "    <tr style=\"text-align: right;\">\n",
       "      <th></th>\n",
       "      <th>clean_text</th>\n",
       "      <th>sentiment</th>\n",
       "    </tr>\n",
       "  </thead>\n",
       "  <tbody>\n",
       "    <tr>\n",
       "      <th>0</th>\n",
       "      <td>Horrible experience First of all we got there ...</td>\n",
       "      <td>0</td>\n",
       "    </tr>\n",
       "    <tr>\n",
       "      <th>1</th>\n",
       "      <td>Stay Away Found Racist graffiti in the room Re...</td>\n",
       "      <td>0</td>\n",
       "    </tr>\n",
       "    <tr>\n",
       "      <th>2</th>\n",
       "      <td>Great location and service Close to Union Squa...</td>\n",
       "      <td>1</td>\n",
       "    </tr>\n",
       "    <tr>\n",
       "      <th>3</th>\n",
       "      <td>I will never go back here again I had a bad vi...</td>\n",
       "      <td>0</td>\n",
       "    </tr>\n",
       "    <tr>\n",
       "      <th>4</th>\n",
       "      <td>Ripped off our VISA card after departure After...</td>\n",
       "      <td>0</td>\n",
       "    </tr>\n",
       "  </tbody>\n",
       "</table>\n",
       "</div>"
      ],
      "text/plain": [
       "                                          clean_text  sentiment\n",
       "0  Horrible experience First of all we got there ...          0\n",
       "1  Stay Away Found Racist graffiti in the room Re...          0\n",
       "2  Great location and service Close to Union Squa...          1\n",
       "3  I will never go back here again I had a bad vi...          0\n",
       "4  Ripped off our VISA card after departure After...          0"
      ]
     },
     "execution_count": 130,
     "metadata": {},
     "output_type": "execute_result"
    }
   ],
   "source": [
    "df_cleaned.head()"
   ]
  },
  {
   "cell_type": "markdown",
   "id": "66a56b2e",
   "metadata": {},
   "source": [
    "#### 1.7 Spliting data into training (first 10000 lines), development (next 10000 lines) and test (remaining 10000 lines)."
   ]
  },
  {
   "cell_type": "code",
   "execution_count": 20,
   "id": "d2f73838",
   "metadata": {},
   "outputs": [],
   "source": [
    "# I have upsampled and have done slip down below\n",
    "# X_train, X_remaining, y_train, y_remaining = train_test_split(df_cleaned[\"clean_text\"], df_cleaned[\"sentiment\"], train_size=10000, random_state=42)\n",
    "# X_dev, X_test, y_dev, y_test = train_test_split(X_remaining, y_remaining, test_size=0.5, random_state=42)"
   ]
  },
  {
   "cell_type": "markdown",
   "id": "31d75afc",
   "metadata": {},
   "source": [
    "### 2. Exploratory Data Analysis (EDA)"
   ]
  },
  {
   "cell_type": "code",
   "execution_count": 131,
   "id": "2d286790",
   "metadata": {},
   "outputs": [
    {
     "data": {
      "text/html": [
       "<div>\n",
       "<style scoped>\n",
       "    .dataframe tbody tr th:only-of-type {\n",
       "        vertical-align: middle;\n",
       "    }\n",
       "\n",
       "    .dataframe tbody tr th {\n",
       "        vertical-align: top;\n",
       "    }\n",
       "\n",
       "    .dataframe thead th {\n",
       "        text-align: right;\n",
       "    }\n",
       "</style>\n",
       "<table border=\"1\" class=\"dataframe\">\n",
       "  <thead>\n",
       "    <tr style=\"text-align: right;\">\n",
       "      <th></th>\n",
       "      <th>sentiment</th>\n",
       "    </tr>\n",
       "  </thead>\n",
       "  <tbody>\n",
       "    <tr>\n",
       "      <th>count</th>\n",
       "      <td>30000.000000</td>\n",
       "    </tr>\n",
       "    <tr>\n",
       "      <th>mean</th>\n",
       "      <td>0.867533</td>\n",
       "    </tr>\n",
       "    <tr>\n",
       "      <th>std</th>\n",
       "      <td>0.339003</td>\n",
       "    </tr>\n",
       "    <tr>\n",
       "      <th>min</th>\n",
       "      <td>0.000000</td>\n",
       "    </tr>\n",
       "    <tr>\n",
       "      <th>25%</th>\n",
       "      <td>1.000000</td>\n",
       "    </tr>\n",
       "    <tr>\n",
       "      <th>50%</th>\n",
       "      <td>1.000000</td>\n",
       "    </tr>\n",
       "    <tr>\n",
       "      <th>75%</th>\n",
       "      <td>1.000000</td>\n",
       "    </tr>\n",
       "    <tr>\n",
       "      <th>max</th>\n",
       "      <td>1.000000</td>\n",
       "    </tr>\n",
       "  </tbody>\n",
       "</table>\n",
       "</div>"
      ],
      "text/plain": [
       "          sentiment\n",
       "count  30000.000000\n",
       "mean       0.867533\n",
       "std        0.339003\n",
       "min        0.000000\n",
       "25%        1.000000\n",
       "50%        1.000000\n",
       "75%        1.000000\n",
       "max        1.000000"
      ]
     },
     "execution_count": 131,
     "metadata": {},
     "output_type": "execute_result"
    }
   ],
   "source": [
    "df_cleaned.describe()"
   ]
  },
  {
   "cell_type": "markdown",
   "id": "269f9d46-8826-4d8a-9d56-1f21c891871a",
   "metadata": {},
   "source": [
    "####2.1 Sentiment Distribution"
   ]
  },
  {
   "cell_type": "code",
   "execution_count": 132,
   "id": "c56e9608-e18f-45d5-9f16-478bafd2f723",
   "metadata": {},
   "outputs": [
    {
     "data": {
      "image/png": "[encoded data removed]",
      "text/plain": [
       "<Figure size 640x480 with 1 Axes>"
      ]
     },
     "metadata": {},
     "output_type": "display_data"
    }
   ],
   "source": [
    "plt.pie(df_cleaned['sentiment'].value_counts(), labels=df_cleaned['sentiment'].unique().tolist(), autopct='%1.1f%%')\n",
    "plt.show()"
   ]
  },
  {
   "cell_type": "markdown",
   "id": "2a5a4a1e-8c2c-45e9-8b40-7d926ef0d3a0",
   "metadata": {},
   "source": [
    "**More than one fourth data is positve.**"
   ]
  },
  {
   "cell_type": "markdown",
   "id": "3cb8529f-8575-452f-b01d-1dba391097b1",
   "metadata": {},
   "source": [
    "#### 2.2 Distribution of overall"
   ]
  },
  {
   "cell_type": "code",
   "execution_count": 133,
   "id": "130348b0-d480-48d0-b5ed-30c48acd0a85",
   "metadata": {},
   "outputs": [
    {
     "data": {
      "image/png": "[encoded data removed]",
      "text/plain": [
       "<Figure size 800x600 with 1 Axes>"
      ]
     },
     "metadata": {},
     "output_type": "display_data"
    }
   ],
   "source": [
    "plt.figure(figsize=(8, 6))\n",
    "sns.histplot(df['overall'].dropna(), kde=True, color='blue')\n",
    "plt.title(f'Distribution of Overall rating')\n",
    "plt.xlabel('Overall Rating')\n",
    "plt.ylabel('Frequency')\n",
    "plt.show()"
   ]
  },
  {
   "cell_type": "code",
   "execution_count": 134,
   "id": "c4ba0c76-fb2a-4dee-8335-0b13daf0e4ee",
   "metadata": {},
   "outputs": [],
   "source": [
    "# Function to get word frequencies for a given sentiment\n",
    "def get_word_frequencies(sentiment):\n",
    "  sentiment_text = ' '.join(df_cleaned[df_cleaned['sentiment'] == sentiment]['clean_text'])\n",
    "  tokens = word_tokenize(sentiment_text)\n",
    "  fdist = FreqDist(tokens)\n",
    "  return fdist"
   ]
  },
  {
   "cell_type": "code",
   "execution_count": 135,
   "id": "3bc2c19a-3f30-4b87-8855-13c3842c6fd7",
   "metadata": {},
   "outputs": [
    {
     "data": {
      "image/png": "[encoded data removed]",
      "text/plain": [
       "<Figure size 640x480 with 1 Axes>"
      ]
     },
     "metadata": {},
     "output_type": "display_data"
    },
    {
     "data": {
      "text/plain": [
       "<Axes: title={'center': 'Word Frequencies for Positive Sentiments'}, xlabel='Samples', ylabel='Counts'>"
      ]
     },
     "execution_count": 135,
     "metadata": {},
     "output_type": "execute_result"
    }
   ],
   "source": [
    "positive_frequencies = get_word_frequencies(1)\n",
    "plt.title('Word Frequencies for Positive Sentiments')\n",
    "positive_frequencies.plot(30, cumulative=False)"
   ]
  },
  {
   "cell_type": "code",
   "execution_count": 26,
   "id": "e3f235ae-0a8e-45bd-952f-96871f3736f3",
   "metadata": {},
   "outputs": [
    {
     "data": {
      "image/png": "[encoded data removed]",
      "text/plain": [
       "<Figure size 640x480 with 1 Axes>"
      ]
     },
     "metadata": {},
     "output_type": "display_data"
    },
    {
     "data": {
      "text/plain": [
       "<Axes: title={'center': 'Word Frequencies for Negative Sentiments'}, xlabel='Samples', ylabel='Counts'>"
      ]
     },
     "execution_count": 26,
     "metadata": {},
     "output_type": "execute_result"
    }
   ],
   "source": [
    " # Plot word frequencies for negative sentiment\n",
    "negative_frequencies = get_word_frequencies(0)\n",
    "# # plt.figure(figsize=(12, 6))\n",
    "plt.title('Word Frequencies for Negative Sentiments')\n",
    "negative_frequencies.plot(30, cumulative=False)\n",
    "# # plt.show()"
   ]
  },
  {
   "cell_type": "code",
   "execution_count": 136,
   "id": "8939326e-cdaa-4598-96ae-3c364c000125",
   "metadata": {},
   "outputs": [
    {
     "data": {
      "image/png": "[encoded data removed]",
      "text/plain": [
       "<Figure size 640x480 with 1 Axes>"
      ]
     },
     "metadata": {},
     "output_type": "display_data"
    }
   ],
   "source": [
    "# Analyze the distribution of rating lengths\n",
    "df_cleaned['text_length'] = df_cleaned['clean_text'].apply(lambda x: len(x.split()))\n",
    "sns.histplot(df_cleaned['text_length'], bins=20, kde=True)\n",
    "plt.title('Distribution of Review Lengths')\n",
    "plt.xlabel('Review Length')\n",
    "plt.show()"
   ]
  },
  {
   "cell_type": "code",
   "execution_count": 137,
   "id": "1e54f98c-5c5a-4e8b-8806-a32b2d28c2a3",
   "metadata": {},
   "outputs": [
    {
     "name": "stdout",
     "output_type": "stream",
     "text": [
      "Distribution of 3-grams:\n",
      "Ripped off our: 1\n",
      "off our VISA: 1\n",
      "our VISA card: 1\n",
      "VISA card after: 1\n",
      "card after departure: 1\n",
      "after departure After: 1\n",
      "departure After we: 1\n",
      "After we received: 1\n",
      "we received our: 1\n",
      "received our final: 1\n",
      "our final bill: 1\n",
      "final bill and: 1\n",
      "bill and left: 1\n",
      "and left the: 1\n",
      "left the Empire: 1\n",
      "the Empire they: 1\n",
      "Empire they assessed: 1\n",
      "they assessed another: 1\n",
      "assessed another 60: 1\n",
      "another 60 charge: 1\n",
      "60 charge on: 1\n",
      "charge on our: 1\n",
      "on our credit: 1\n",
      "our credit card: 2\n",
      "credit card Called: 1\n",
      "card Called accounting: 1\n",
      "Called accounting and: 1\n",
      "accounting and sent: 1\n",
      "and sent email: 1\n",
      "sent email to: 1\n",
      "email to ask: 1\n",
      "to ask for: 1\n",
      "ask for justification: 1\n",
      "for justification no: 1\n",
      "justification no response: 1\n",
      "no response Have: 1\n",
      "response Have asked: 1\n",
      "Have asked our: 1\n",
      "asked our credit: 1\n",
      "credit card company: 1\n",
      "card company to: 1\n",
      "company to withhold: 1\n",
      "to withhold payment: 1\n"
     ]
    },
    {
     "data": {
      "image/png": "[encoded data removed]",
      "text/plain": [
       "<Figure size 640x480 with 1 Axes>"
      ]
     },
     "metadata": {},
     "output_type": "display_data"
    }
   ],
   "source": [
    "\n",
    "# Tokenize the text into words\n",
    "tokens = nltk.word_tokenize(df_cleaned['clean_text'][4])\n",
    "\n",
    "# Function to generate n-grams\n",
    "def generate_ngrams(text, n):\n",
    "    n_grams = ngrams(text, n)\n",
    "    return [' '.join(gram) for gram in n_grams]\n",
    "\n",
    "# Specify the value of n for n-grams\n",
    "n_value = 3\n",
    "\n",
    "# Generate n-grams\n",
    "ngrams_list = generate_ngrams(tokens, n_value)\n",
    "\n",
    "# Count the occurrences of each n-gram\n",
    "ngrams_count = Counter(ngrams_list)\n",
    "\n",
    "# Display the distribution\n",
    "print(f\"Distribution of {n_value}-grams:\")\n",
    "for ngram, count in ngrams_count.items():\n",
    "    print(f\"{ngram}: {count}\")\n",
    "\n",
    "# Plot the distribution\n",
    "labels, values = zip(*ngrams_count.items())\n",
    "indexes = range(len(labels))\n",
    "\n",
    "plt.bar(indexes, values)\n",
    "plt.xlabel(f'{n_value}-grams')\n",
    "plt.ylabel('Frequency')\n",
    "plt.xticks(indexes, labels, rotation='vertical')\n",
    "plt.title(f'Distribution of {n_value}-grams')\n",
    "plt.show()"
   ]
  },
  {
   "cell_type": "markdown",
   "id": "333cefa8",
   "metadata": {},
   "source": [
    "### 3. Preprocessing"
   ]
  },
  {
   "cell_type": "code",
   "execution_count": 138,
   "id": "c292820d",
   "metadata": {},
   "outputs": [],
   "source": [
    "df_positive = df_cleaned[df_cleaned.sentiment == 1]\n",
    "df_negitive = df_cleaned[df_cleaned.sentiment == 0]\n",
    "\n",
    "df_upsampled = resample(df_negitive,\n",
    "                                 replace=True,     # sample with replacement\n",
    "                                 n_samples=len(df_positive),    # to match majority class\n",
    "                                 random_state=42) # reproducible results\n",
    "\n",
    "# Combine majority class with upsampled minority class\n",
    "df_upsampled = pd.concat([df_positive, df_upsampled])"
   ]
  },
  {
   "cell_type": "code",
   "execution_count": 139,
   "id": "997dd310-f81a-44fc-a712-f0abb22e8753",
   "metadata": {},
   "outputs": [
    {
     "name": "stdout",
     "output_type": "stream",
     "text": [
      "<class 'pandas.core.frame.DataFrame'>\n",
      "Index: 52052 entries, 2 to 14179\n",
      "Data columns (total 3 columns):\n",
      " #   Column       Non-Null Count  Dtype \n",
      "---  ------       --------------  ----- \n",
      " 0   clean_text   52052 non-null  object\n",
      " 1   sentiment    52052 non-null  int64 \n",
      " 2   text_length  52052 non-null  int64 \n",
      "dtypes: int64(2), object(1)\n",
      "memory usage: 1.6+ MB\n"
     ]
    }
   ],
   "source": [
    "df_upsampled.info()"
   ]
  },
  {
   "cell_type": "code",
   "execution_count": 140,
   "id": "7cbff1a7-4c3a-4fce-9f4e-323ab2056f70",
   "metadata": {},
   "outputs": [
    {
     "data": {
      "image/png": "[encoded data removed]",
      "text/plain": [
       "<Figure size 640x480 with 1 Axes>"
      ]
     },
     "metadata": {},
     "output_type": "display_data"
    }
   ],
   "source": [
    "plt.pie(df_upsampled['sentiment'].value_counts(), labels=df_upsampled['sentiment'].unique().tolist(), autopct='%1.1f%%')\n",
    "plt.show()"
   ]
  },
  {
   "cell_type": "markdown",
   "id": "3573b19d-7cf7-48c8-8df8-a161942ee24d",
   "metadata": {},
   "source": [
    "**Dataset is upsampled to normalize the dataset**"
   ]
  },
  {
   "cell_type": "code",
   "execution_count": 141,
   "id": "136d4c4a-4256-4dda-b0b3-4c2eaceae3ca",
   "metadata": {},
   "outputs": [],
   "source": [
    "# Spliting the data into training and remaining (which will be further split into development and testing)\n",
    "X_train, X_remaining, y_train, y_remaining = train_test_split(df_upsampled[\"clean_text\"], df_upsampled[\"sentiment\"], train_size=1/3, random_state=42)\n",
    "\n",
    "# Further split the remaining data into development and testing\n",
    "X_dev, X_test, y_dev, y_test = train_test_split(X_remaining, y_remaining, test_size=0.5, random_state=42)"
   ]
  },
  {
   "cell_type": "markdown",
   "id": "067cebcf",
   "metadata": {},
   "source": [
    "### 4. Selecting supervised method for sentiment classification"
   ]
  },
  {
   "cell_type": "code",
   "execution_count": 142,
   "id": "0ed04457-b596-41f1-838c-c259e14114af",
   "metadata": {},
   "outputs": [],
   "source": [
    "# Spliting the development dataset into training and testing sets\n",
    "X_train_dev, X_test_dev, y_train_dev, y_test_dev = train_test_split(X_dev, y_dev, test_size=0.5, random_state=42)"
   ]
  },
  {
   "cell_type": "code",
   "execution_count": 143,
   "id": "2f30a788-0bc0-4903-830c-24727faff314",
   "metadata": {},
   "outputs": [
    {
     "name": "stdout",
     "output_type": "stream",
     "text": [
      "TfidfVectorizer(lowercase=False, min_df=3, ngram_range=(1, 3), smooth_idf=1,\n",
      "                stop_words='english', sublinear_tf=1, token_pattern='\\\\w{1,}',\n",
      "                use_idf=1)\n"
     ]
    }
   ],
   "source": [
    "# Vectorizing the text using TF-IDF\n",
    "vectorizer = TfidfVectorizer(min_df=3,  max_features=None,\n",
    "             analyzer='word',token_pattern=r'\\w{1,}',\n",
    "            ngram_range=(1, 3), use_idf=1,smooth_idf=1,sublinear_tf=1,\n",
    "            stop_words = 'english', lowercase=False)\n",
    "print(vectorizer)"
   ]
  },
  {
   "cell_type": "code",
   "execution_count": 144,
   "id": "20f6518e-ddb3-4a4b-8fec-1a10f3f4f7c5",
   "metadata": {},
   "outputs": [],
   "source": [
    "X_train_dev_vector = vectorizer.fit_transform(X_train_dev)\n",
    "X_test_dev_vector = vectorizer.transform(X_test_dev)"
   ]
  },
  {
   "cell_type": "code",
   "execution_count": 145,
   "id": "23c816a9",
   "metadata": {},
   "outputs": [
    {
     "name": "stdout",
     "output_type": "stream",
     "text": [
      "                    Model  Accuracy  F1 Score\n",
      "0  RandomForestClassifier  0.912046  0.916866\n",
      "1                     SVC  0.935793  0.935779\n",
      "2    KNeighborsClassifier  0.821903  0.820378\n",
      "3           MultinomialNB  0.894985  0.894437\n"
     ]
    }
   ],
   "source": [
    "# Models to run\n",
    "models = [RandomForestClassifier(),SVC(), KNeighborsClassifier(),MultinomialNB()]\n",
    "\n",
    "# List to store accuracy and F1 scores\n",
    "accuracy = []\n",
    "f1_scores = []\n",
    "\n",
    "for model in models:\n",
    "    cross_val_accuracy = cross_val_score(model, X_train_dev_vector, y_train_dev, scoring='accuracy', cv=StratifiedKFold(10)).mean()\n",
    "    cross_val_f1 = cross_val_score(model, X_train_dev_vector, y_train_dev, scoring='f1_macro', cv=StratifiedKFold(10)).mean()\n",
    "    accuracy.append(cross_val_accuracy)\n",
    "    f1_scores.append(cross_val_f1)\n",
    "\n",
    "# Model names\n",
    "models_name = ['RandomForestClassifier', 'SVC', 'KNeighborsClassifier', 'MultinomialNB']\n",
    "# Creating DataFrame to store model names, accuracy, and F1 scores\n",
    "results = pd.DataFrame({'Model': models_name, 'Accuracy': accuracy, 'F1 Score': f1_scores})\n",
    "print(results)"
   ]
  },
  {
   "cell_type": "markdown",
   "id": "a3d1f213-1a46-4775-9a12-b2bd97e32e91",
   "metadata": {},
   "source": [
    "**While performing sentiment analysis, where our end goal is to determine either the textual data is positive or negative, we select accuary and F1 score as a metries for evaluating the model performance. Accuracy provides the complete performance, where it measures the proportion of correctly predicted sentiments out of all the instances in the dataset.**\n",
    " \n",
    "**The dataset was upsampled to address the class imbalance which affects the quality of the model's prediction hence we choose 'F1 Score' for another evaluation metrics. 'F1 score' considers the harmonic mean of precision and recall. It is relevent for evaluating the balance between correctly identifying positive and negative sentiments and capturing all instances of positive and negative sentiments.**"
   ]
  },
  {
   "cell_type": "code",
   "execution_count": 154,
   "id": "8f86acfb-8003-4c1d-85be-d8a4895ccbe1",
   "metadata": {},
   "outputs": [
    {
     "data": {
      "image/png": "[encoded data removed]",
      "text/plain": [
       "<Figure size 1000x600 with 1 Axes>"
      ]
     },
     "metadata": {},
     "output_type": "display_data"
    }
   ],
   "source": [
    "# Plotting\n",
    "plt.figure(figsize=(10, 6))\n",
    "bar_width = 0.35\n",
    "index = range(len(results))\n",
    "\n",
    "plt.bar(index, results['Accuracy'], bar_width, label='Accuracy')\n",
    "plt.bar([i + bar_width for i in index], results['F1 Score'], bar_width, label='F1 Score')\n",
    "\n",
    "# Adding labels and title\n",
    "plt.xlabel('Models')\n",
    "plt.ylabel('Performance (%)')\n",
    "plt.title('Model Performance Comparison')\n",
    "plt.xticks([i + bar_width / 2 for i in index], results['Model'], rotation=45)\n",
    "plt.legend()\n",
    "\n",
    "# Show plot\n",
    "plt.grid(axis='y', linestyle='--', alpha=0.7)\n",
    "plt.tight_layout()\n",
    "plt.show()"
   ]
  },
  {
   "cell_type": "markdown",
   "id": "97b7bc0e-ad03-4d83-bda8-9f9ec64ed6ff",
   "metadata": {},
   "source": [
    "**We can clearly see, Support Vector Classifier (SVC) out performs other with highest accuracy and F1 score. Secondly, random Forest has slightly less accuracy than SVC. SVC out performs other with highest accuracy and F1 score. Secondly, random Forest has slightly less accuracy than SVC.**"
   ]
  },
  {
   "cell_type": "markdown",
   "id": "043a5c82-f83e-41c8-bced-02e07de01d77",
   "metadata": {},
   "source": [
    "#### Linear Regression"
   ]
  },
  {
   "cell_type": "code",
   "execution_count": 146,
   "id": "4013f6c7-ce5b-4c32-af68-3683121a07dc",
   "metadata": {},
   "outputs": [
    {
     "name": "stdout",
     "output_type": "stream",
     "text": [
      "Mean Squared Error: 0.060246813847988835\n"
     ]
    }
   ],
   "source": [
    "from sklearn.metrics import mean_squared_error\n",
    "\n",
    "# Training the linear regression model\n",
    "model = LinearRegression()\n",
    "model.fit(X_train_dev_vector, y_train_dev)\n",
    "\n",
    "# Predicting on the test set\n",
    "y_pred = model.predict(X_test_dev_vector)\n",
    "\n",
    "# Calculating mean squared error\n",
    "mse = mean_squared_error(y_test_dev, y_pred)\n",
    "print(\"Mean Squared Error:\", mse)"
   ]
  },
  {
   "cell_type": "markdown",
   "id": "cb4c04a8-79e9-4df1-906e-67ab4ae7c857",
   "metadata": {},
   "source": [
    "#### Multilayer perceptron"
   ]
  },
  {
   "cell_type": "code",
   "execution_count": 147,
   "id": "6cd76575-14e1-4982-8cb0-75cd3949a4f2",
   "metadata": {},
   "outputs": [],
   "source": [
    "# plot accuracy and loss\n",
    "def plot_history(history):\n",
    "    accuracy = history.history['accuracy']\n",
    "    val_accuracy= history.history['val_accuracy']\n",
    "    loss = history.history['loss']\n",
    "    val_loss = history.history['val_loss']\n",
    "\n",
    "    epochs = range(1, len(accuracy) + 1)\n",
    "    plt.plot(epochs, accuracy, 'bo', label='Training accuracy')\n",
    "    plt.plot(epochs, val_accuracy, 'b', label='Validation accuracy')\n",
    "\n",
    "    plt.title('Training and validation accuracy')\n",
    "    plt.legend()\n",
    "    plt.figure()\n",
    "\n",
    "    plt.plot(epochs, loss, 'bo', label='Training loss')\n",
    "    plt.plot(epochs, val_loss, 'b', label='Validation loss')\n",
    "    plt.title('Training and validation loss')\n",
    "    plt.legend()\n",
    "    plt.show()\n",
    "\n",
    "\n",
    "# plot model architecture\n",
    "def plot_model(model):\n",
    "    model.summary()\n",
    "    return tf.keras.utils.plot_model(\n",
    "    model,\n",
    "    to_file=\"model.png\",\n",
    "    show_shapes=True,\n",
    "    show_dtype=False,\n",
    "    show_layer_names=True,\n",
    "    rankdir=\"TB\",\n",
    "    expand_nested=True,\n",
    "    dpi=96,\n",
    "    layer_range=None,\n",
    "    )"
   ]
  },
  {
   "cell_type": "code",
   "execution_count": 148,
   "id": "9dd7ff44-36c3-4445-ad57-9f1f1ff61768",
   "metadata": {},
   "outputs": [],
   "source": [
    "X_train_dev_reshaped = X_train_dev.values.reshape(X_train_dev.shape[0], 1, -1)  # Reshape for LSTM input\n",
    "X_test_dev_reshaped = X_test_dev.values.reshape(X_test_dev.shape[0], 1, -1)  # Reshape for LSTM input"
   ]
  },
  {
   "cell_type": "code",
   "execution_count": 149,
   "id": "704cfc54-6128-4074-889e-d22108150fa3",
   "metadata": {},
   "outputs": [
    {
     "name": "stdout",
     "output_type": "stream",
     "text": [
      "Total distinct words: 32400\n"
     ]
    }
   ],
   "source": [
    "from tensorflow.keras.preprocessing.sequence import pad_sequences\n",
    "from sklearn.preprocessing import LabelBinarizer\n",
    "from tensorflow.keras.preprocessing.text import Tokenizer\n",
    "from tensorflow.keras.regularizers import l2\n",
    "from tensorflow.keras import layers\n",
    "\n",
    "tokenizer = Tokenizer(num_words=25000, oov_token='<OOV>')\n",
    "\n",
    "tokenizer.fit_on_texts(X_train_dev)\n",
    "# print(tokenizer.word_index)\n",
    "total_word = len(tokenizer.word_index)\n",
    "print('Total distinct words: {}'.format(total_word))\n",
    "\n",
    "train_seq = tokenizer.texts_to_sequences(X_train_dev)\n",
    "train_padded = pad_sequences(train_seq)\n",
    "\n",
    "test_seq = tokenizer.texts_to_sequences(X_test_dev)\n",
    "test_padded = pad_sequences(test_seq)\n",
    "\n",
    "# One hot encoding the label\n",
    "lb = LabelBinarizer()\n",
    "train_labels = lb.fit_transform(y_train_dev)\n",
    "test_labels = lb.transform(y_test_dev)"
   ]
  },
  {
   "cell_type": "code",
   "execution_count": 150,
   "id": "b26c92fd-abb1-4e03-9e1a-4cc131eb5bab",
   "metadata": {},
   "outputs": [
    {
     "name": "stdout",
     "output_type": "stream",
     "text": [
      "Model: \"sequential_3\"\n",
      "_________________________________________________________________\n",
      " Layer (type)                Output Shape              Param #   \n",
      "=================================================================\n",
      " embedding_3 (Embedding)     (None, None, 8)           259200    \n",
      "                                                                 \n",
      " bidirectional_3 (Bidirecti  (None, 32)                3200      \n",
      " onal)                                                           \n",
      "                                                                 \n",
      " dropout_6 (Dropout)         (None, 32)                0         \n",
      "                                                                 \n",
      " dense_6 (Dense)             (None, 8)                 264       \n",
      "                                                                 \n",
      " dropout_7 (Dropout)         (None, 8)                 0         \n",
      "                                                                 \n",
      " dense_7 (Dense)             (None, 1)                 9         \n",
      "                                                                 \n",
      "=================================================================\n",
      "Total params: 262673 (1.00 MB)\n",
      "Trainable params: 262673 (1.00 MB)\n",
      "Non-trainable params: 0 (0.00 Byte)\n",
      "_________________________________________________________________\n"
     ]
    }
   ],
   "source": [
    "model = tf.keras.models.Sequential([tf.keras.layers.Embedding(total_word, 8),\n",
    "                                    tf.keras.layers.Bidirectional(tf.keras.layers.LSTM(16)),\n",
    "                                    tf.keras.layers.Dropout(0.5),\n",
    "                                    tf.keras.layers.Dense(8, kernel_regularizer=l2(0.001),\n",
    "                                                          bias_regularizer=l2(0.001), activation='relu'),\n",
    "                                    tf.keras.layers.Dropout(0.5),\n",
    "                                    tf.keras.layers.Dense(1, activation='softmax')])\n",
    "\n",
    "model.summary() #[3] "
   ]
  },
  {
   "cell_type": "code",
   "execution_count": 151,
   "id": "a245f2f6-b10d-46f7-8ee4-323670bee031",
   "metadata": {},
   "outputs": [
    {
     "name": "stdout",
     "output_type": "stream",
     "text": [
      "Epoch 1/25\n",
      "272/272 [==============================] - 107s 387ms/step - loss: 0.0114 - accuracy: 0.4986 - val_loss: 0.0115 - val_accuracy: 0.4912\n",
      "Epoch 2/25\n",
      "272/272 [==============================] - 105s 385ms/step - loss: 0.0119 - accuracy: 0.4986 - val_loss: 0.0123 - val_accuracy: 0.4912\n",
      "Epoch 3/25\n",
      "272/272 [==============================] - 105s 386ms/step - loss: 0.0128 - accuracy: 0.4986 - val_loss: 0.0133 - val_accuracy: 0.4912\n",
      "Epoch 4/25\n",
      "272/272 [==============================] - 105s 385ms/step - loss: 0.0139 - accuracy: 0.4986 - val_loss: 0.0145 - val_accuracy: 0.4912\n",
      "Epoch 5/25\n",
      "272/272 [==============================] - 105s 387ms/step - loss: 0.0153 - accuracy: 0.4986 - val_loss: 0.0161 - val_accuracy: 0.4912\n",
      "Epoch 6/25\n",
      "272/272 [==============================] - 105s 385ms/step - loss: 0.0169 - accuracy: 0.4986 - val_loss: 0.0178 - val_accuracy: 0.4912\n",
      "Epoch 7/25\n",
      "272/272 [==============================] - 105s 386ms/step - loss: 0.0188 - accuracy: 0.4986 - val_loss: 0.0198 - val_accuracy: 0.4912\n",
      "Epoch 8/25\n",
      "272/272 [==============================] - 105s 386ms/step - loss: 0.0208 - accuracy: 0.4986 - val_loss: 0.0219 - val_accuracy: 0.4912\n",
      "Epoch 9/25\n",
      "272/272 [==============================] - 105s 386ms/step - loss: 0.0230 - accuracy: 0.4986 - val_loss: 0.0242 - val_accuracy: 0.4912\n",
      "Epoch 10/25\n",
      "272/272 [==============================] - 105s 386ms/step - loss: 0.0254 - accuracy: 0.4986 - val_loss: 0.0266 - val_accuracy: 0.4912\n",
      "Epoch 11/25\n",
      "272/272 [==============================] - 106s 388ms/step - loss: 0.0280 - accuracy: 0.4986 - val_loss: 0.0293 - val_accuracy: 0.4912\n",
      "Epoch 12/25\n",
      "272/272 [==============================] - 106s 389ms/step - loss: 0.0307 - accuracy: 0.4986 - val_loss: 0.0322 - val_accuracy: 0.4912\n",
      "Epoch 13/25\n",
      "272/272 [==============================] - 106s 388ms/step - loss: 0.0337 - accuracy: 0.4986 - val_loss: 0.0352 - val_accuracy: 0.4912\n",
      "Epoch 14/25\n",
      "272/272 [==============================] - 105s 388ms/step - loss: 0.0368 - accuracy: 0.4986 - val_loss: 0.0385 - val_accuracy: 0.4912\n",
      "Epoch 15/25\n",
      "272/272 [==============================] - 105s 384ms/step - loss: 0.0401 - accuracy: 0.4986 - val_loss: 0.0418 - val_accuracy: 0.4912\n",
      "Epoch 16/25\n",
      "272/272 [==============================] - 105s 385ms/step - loss: 0.0436 - accuracy: 0.4986 - val_loss: 0.0454 - val_accuracy: 0.4912\n",
      "Epoch 17/25\n",
      "272/272 [==============================] - 105s 385ms/step - loss: 0.0472 - accuracy: 0.4986 - val_loss: 0.0491 - val_accuracy: 0.4912\n",
      "Epoch 18/25\n",
      "272/272 [==============================] - 105s 385ms/step - loss: 0.0510 - accuracy: 0.4986 - val_loss: 0.0529 - val_accuracy: 0.4912\n",
      "Epoch 19/25\n",
      "272/272 [==============================] - 104s 384ms/step - loss: 0.0550 - accuracy: 0.4986 - val_loss: 0.0570 - val_accuracy: 0.4912\n",
      "Epoch 20/25\n",
      "272/272 [==============================] - 105s 386ms/step - loss: 0.0592 - accuracy: 0.4986 - val_loss: 0.0613 - val_accuracy: 0.4912\n",
      "Epoch 21/25\n",
      "272/272 [==============================] - 105s 386ms/step - loss: 0.0635 - accuracy: 0.4986 - val_loss: 0.0657 - val_accuracy: 0.4912\n",
      "Epoch 22/25\n",
      "272/272 [==============================] - 105s 385ms/step - loss: 0.0680 - accuracy: 0.4986 - val_loss: 0.0702 - val_accuracy: 0.4912\n",
      "Epoch 23/25\n",
      "272/272 [==============================] - 105s 385ms/step - loss: 0.0727 - accuracy: 0.4986 - val_loss: 0.0751 - val_accuracy: 0.4912\n",
      "Epoch 24/25\n",
      "272/272 [==============================] - 104s 384ms/step - loss: 0.0775 - accuracy: 0.4986 - val_loss: 0.0800 - val_accuracy: 0.4912\n",
      "Epoch 25/25\n",
      "272/272 [==============================] - 104s 384ms/step - loss: 0.0826 - accuracy: 0.4986 - val_loss: 0.0852 - val_accuracy: 0.4912\n"
     ]
    },
    {
     "data": {
      "text/plain": [
       "<keras.src.callbacks.History at 0x1fb6c1df850>"
      ]
     },
     "execution_count": 151,
     "metadata": {},
     "output_type": "execute_result"
    }
   ],
   "source": [
    "model.compile(optimizer=tf.optimizers.Adam(learning_rate=0.0001), loss='categorical_crossentropy', metrics=['accuracy'])\n",
    "model.fit(train_padded, train_labels, epochs=25, validation_data=(test_padded, test_labels))"
   ]
  },
  {
   "cell_type": "code",
   "execution_count": 44,
   "id": "a6a95341-7a24-41b1-b109-479244cbc133",
   "metadata": {},
   "outputs": [
    {
     "data": {
      "text/html": [
       "<div>\n",
       "<style scoped>\n",
       "    .dataframe tbody tr th:only-of-type {\n",
       "        vertical-align: middle;\n",
       "    }\n",
       "\n",
       "    .dataframe tbody tr th {\n",
       "        vertical-align: top;\n",
       "    }\n",
       "\n",
       "    .dataframe thead th {\n",
       "        text-align: right;\n",
       "    }\n",
       "</style>\n",
       "<table border=\"1\" class=\"dataframe\">\n",
       "  <thead>\n",
       "    <tr style=\"text-align: right;\">\n",
       "      <th></th>\n",
       "      <th>clean_text</th>\n",
       "      <th>sentiment</th>\n",
       "      <th>text_length</th>\n",
       "    </tr>\n",
       "  </thead>\n",
       "  <tbody>\n",
       "    <tr>\n",
       "      <th>2</th>\n",
       "      <td>Great location and service Close to Union Squa...</td>\n",
       "      <td>1</td>\n",
       "      <td>56</td>\n",
       "    </tr>\n",
       "    <tr>\n",
       "      <th>5</th>\n",
       "      <td>A great location Steps to Grand Central a very...</td>\n",
       "      <td>1</td>\n",
       "      <td>22</td>\n",
       "    </tr>\n",
       "    <tr>\n",
       "      <th>6</th>\n",
       "      <td>Its all about the Location This Hotel is locat...</td>\n",
       "      <td>1</td>\n",
       "      <td>377</td>\n",
       "    </tr>\n",
       "    <tr>\n",
       "      <th>7</th>\n",
       "      <td>Five Star Service I stayed with my teenage boy...</td>\n",
       "      <td>1</td>\n",
       "      <td>126</td>\n",
       "    </tr>\n",
       "    <tr>\n",
       "      <th>8</th>\n",
       "      <td>Good airport hotel in Seattle Very good airpor...</td>\n",
       "      <td>1</td>\n",
       "      <td>180</td>\n",
       "    </tr>\n",
       "  </tbody>\n",
       "</table>\n",
       "</div>"
      ],
      "text/plain": [
       "                                          clean_text  sentiment  text_length\n",
       "2  Great location and service Close to Union Squa...          1           56\n",
       "5  A great location Steps to Grand Central a very...          1           22\n",
       "6  Its all about the Location This Hotel is locat...          1          377\n",
       "7  Five Star Service I stayed with my teenage boy...          1          126\n",
       "8  Good airport hotel in Seattle Very good airpor...          1          180"
      ]
     },
     "execution_count": 44,
     "metadata": {},
     "output_type": "execute_result"
    }
   ],
   "source": [
    "df_upsampled.head()"
   ]
  },
  {
   "cell_type": "markdown",
   "id": "7ef554e8-6238-4c19-bf24-7308deb0c241",
   "metadata": {},
   "source": [
    "#### Grid Search CV on SVM "
   ]
  },
  {
   "cell_type": "code",
   "execution_count": 152,
   "id": "49607c48-cedb-4ddc-8bb7-e32c105c8e8a",
   "metadata": {},
   "outputs": [
    {
     "name": "stdout",
     "output_type": "stream",
     "text": [
      "Fitting 10 folds for each of 64 candidates, totalling 640 fits\n",
      "Best parameters found:  {'C': 10, 'gamma': 1, 'kernel': 'rbf'}\n",
      "Best accuracy found:  0.9372923742552051\n"
     ]
    }
   ],
   "source": [
    "from sklearn.model_selection import GridSearchCV\n",
    "from sklearn.svm import SVC\n",
    "\n",
    "param_grid = {\n",
    "    'C': [0.1, 1, 10, 100],\n",
    "    'gamma': [1, 0.1, 0.01, 0.001],\n",
    "    'kernel': ['rbf', 'linear', 'poly', 'sigmoid']\n",
    "}\n",
    "\n",
    "svm_model = SVC()\n",
    "# Performing Grid Search with cross-validation\n",
    "grid_search = GridSearchCV(estimator=svm_model, param_grid=param_grid, cv=10, scoring='accuracy', verbose=1, n_jobs=-1)\n",
    "\n",
    "# Fitting the data to the grid search\n",
    "grid_search.fit(X_train_dev_vector, y_train_dev)\n",
    "\n",
    "print(\"Best parameters found: \", grid_search.best_params_)\n",
    "print(\"Best accuracy found: \", grid_search.best_score_)"
   ]
  },
  {
   "cell_type": "markdown",
   "id": "8835142c-72a9-4e7a-bd30-1f9cb1616580",
   "metadata": {},
   "source": [
    "#### SVM after Stop word removal"
   ]
  },
  {
   "cell_type": "code",
   "execution_count": 45,
   "id": "7ff460f2-3b91-4f94-84c3-1164b25b9eb0",
   "metadata": {},
   "outputs": [],
   "source": [
    "# Removing stopword\n",
    "def clean_text(text):\n",
    "    # text = text.lower()\n",
    "    # Remove stopwords and punctuation\n",
    "    tokens = word_tokenize(text)\n",
    "    stop_words = stopwords.words(\"english\") + list(string.punctuation)\n",
    "    tokens = [token for token in tokens if token not in stop_words]\n",
    "    # text1 = \" \".join(tokens)\n",
    "    # doc = nlp(text1)\n",
    "    # tokens = [token.lemma_ for token in doc]\n",
    "    return \" \".join(tokens)\n",
    "\n",
    "df_upsampled[\"clean_text_1\"] = df_upsampled[\"clean_text\"].apply(clean_text)"
   ]
  },
  {
   "cell_type": "code",
   "execution_count": 46,
   "id": "efa71549-cc92-4009-8d04-e17a92060425",
   "metadata": {},
   "outputs": [],
   "source": [
    "df_upsampled = df_upsampled.drop(['clean_text','text_length'],axis=1)"
   ]
  },
  {
   "cell_type": "code",
   "execution_count": 47,
   "id": "b1648837-1e9e-4302-9076-de85845055f5",
   "metadata": {},
   "outputs": [],
   "source": [
    "df_stop_word_removed = df_upsampled.copy()"
   ]
  },
  {
   "cell_type": "code",
   "execution_count": 48,
   "id": "3b2d4d2c-303f-4949-aaca-23bdb06038eb",
   "metadata": {},
   "outputs": [
    {
     "data": {
      "text/html": [
       "<div>\n",
       "<style scoped>\n",
       "    .dataframe tbody tr th:only-of-type {\n",
       "        vertical-align: middle;\n",
       "    }\n",
       "\n",
       "    .dataframe tbody tr th {\n",
       "        vertical-align: top;\n",
       "    }\n",
       "\n",
       "    .dataframe thead th {\n",
       "        text-align: right;\n",
       "    }\n",
       "</style>\n",
       "<table border=\"1\" class=\"dataframe\">\n",
       "  <thead>\n",
       "    <tr style=\"text-align: right;\">\n",
       "      <th></th>\n",
       "      <th>sentiment</th>\n",
       "      <th>clean_text_1</th>\n",
       "    </tr>\n",
       "  </thead>\n",
       "  <tbody>\n",
       "    <tr>\n",
       "      <th>2</th>\n",
       "      <td>1</td>\n",
       "      <td>Great location service Close Union Square hote...</td>\n",
       "    </tr>\n",
       "    <tr>\n",
       "      <th>5</th>\n",
       "      <td>1</td>\n",
       "      <td>A great location Steps Grand Central well situ...</td>\n",
       "    </tr>\n",
       "    <tr>\n",
       "      <th>6</th>\n",
       "      <td>1</td>\n",
       "      <td>Its Location This Hotel located right heart Sa...</td>\n",
       "    </tr>\n",
       "    <tr>\n",
       "      <th>7</th>\n",
       "      <td>1</td>\n",
       "      <td>Five Star Service I stayed teenage boys resort...</td>\n",
       "    </tr>\n",
       "    <tr>\n",
       "      <th>8</th>\n",
       "      <td>1</td>\n",
       "      <td>Good airport hotel Seattle Very good airporrt ...</td>\n",
       "    </tr>\n",
       "  </tbody>\n",
       "</table>\n",
       "</div>"
      ],
      "text/plain": [
       "   sentiment                                       clean_text_1\n",
       "2          1  Great location service Close Union Square hote...\n",
       "5          1  A great location Steps Grand Central well situ...\n",
       "6          1  Its Location This Hotel located right heart Sa...\n",
       "7          1  Five Star Service I stayed teenage boys resort...\n",
       "8          1  Good airport hotel Seattle Very good airporrt ..."
      ]
     },
     "execution_count": 48,
     "metadata": {},
     "output_type": "execute_result"
    }
   ],
   "source": [
    "df_stop_word_removed.head()"
   ]
  },
  {
   "cell_type": "code",
   "execution_count": 49,
   "id": "fc2d2d37-3325-4c8e-8a6a-3182d38f165f",
   "metadata": {},
   "outputs": [
    {
     "data": {
      "text/plain": [
       "'A great location Steps Grand Central well situated hotel midtown within walking distance shops theatres restaurants'"
      ]
     },
     "execution_count": 49,
     "metadata": {},
     "output_type": "execute_result"
    }
   ],
   "source": [
    "df_stop_word_removed[\"clean_text_1\"][5]"
   ]
  },
  {
   "cell_type": "code",
   "execution_count": 50,
   "id": "fd6c6ce4-67b3-491e-be1f-01f3ed7ccab4",
   "metadata": {},
   "outputs": [],
   "source": [
    "# Spliting the data into training and remaining (which will be further split into development and testing)\n",
    "X_train, X_remaining, y_train, y_remaining = train_test_split(df_stop_word_removed[\"clean_text_1\"], df_stop_word_removed[\"sentiment\"], train_size=1/3, random_state=42)\n",
    "\n",
    "# Further split the remaining data into development and testing\n",
    "X_dev, X_test, y_dev, y_test = train_test_split(X_remaining, y_remaining, test_size=0.5, random_state=42)\n",
    "\n",
    "# Spliting the development dataset into training and testing sets\n",
    "X_train_dev, X_test_dev, y_train_dev, y_test_dev = train_test_split(X_dev, y_dev, test_size=0.5, random_state=42)"
   ]
  },
  {
   "cell_type": "code",
   "execution_count": 51,
   "id": "24dc6a29-ebad-4571-a0c7-07172190dd8a",
   "metadata": {},
   "outputs": [
    {
     "name": "stdout",
     "output_type": "stream",
     "text": [
      "Accuracy: 0.940179806362379\n"
     ]
    }
   ],
   "source": [
    "# training an SVC classifier\n",
    "svc_classifier = SVC(C=10, gamma=1, kernel='rbf')\n",
    "\n",
    "svc_classifier.fit(X_train_dev_vector, y_train_dev)\n",
    "\n",
    "# Making predictions on the vectorized test set\n",
    "y_pred_svc = svc_classifier.predict(X_test_dev_vector)\n",
    "\n",
    "# Calculate accuracy\n",
    "accuracy = accuracy_score(y_test_dev, y_pred_svc)\n",
    "print(\"Accuracy:\", accuracy)\n"
   ]
  },
  {
   "cell_type": "code",
   "execution_count": 52,
   "id": "506f132e-cd89-4364-8a94-5683c6b1797f",
   "metadata": {},
   "outputs": [
    {
     "name": "stdout",
     "output_type": "stream",
     "text": [
      "F1 score: 0.9389483590165864\n",
      "              precision    recall  f1-score   support\n",
      "\n",
      "           0       0.94      0.94      0.94      4414\n",
      "           1       0.94      0.94      0.94      4262\n",
      "\n",
      "    accuracy                           0.94      8676\n",
      "   macro avg       0.94      0.94      0.94      8676\n",
      "weighted avg       0.94      0.94      0.94      8676\n",
      "\n"
     ]
    }
   ],
   "source": [
    "print(\"F1 score:\", f1_score(y_test_dev, y_pred_svc))\n",
    "print(classification_report(y_test_dev, y_pred_svc))"
   ]
  },
  {
   "cell_type": "markdown",
   "id": "a104ce20-edf9-4959-a1ab-792d487afe2e",
   "metadata": {},
   "source": [
    "#### SVM after Lemmatisation"
   ]
  },
  {
   "cell_type": "code",
   "execution_count": 53,
   "id": "37004973-6957-448c-ac5c-361039635882",
   "metadata": {},
   "outputs": [],
   "source": [
    "# Removing stopword\n",
    "def clean_text(text):\n",
    "    # text = text.lower()\n",
    "    # Remove stopwords and punctuation\n",
    "    tokens = word_tokenize(text)\n",
    "    stop_words = stopwords.words(\"english\") + list(string.punctuation)\n",
    "    tokens = [token for token in tokens if token not in stop_words]\n",
    "    text1 = \" \".join(tokens)\n",
    "    doc = nlp(text1)\n",
    "    tokens = [token.lemma_ for token in doc]\n",
    "    return \" \".join(tokens)\n",
    "\n",
    "df_upsampled[\"clean_text_2\"] = df_upsampled[\"clean_text_1\"].apply(clean_text)"
   ]
  },
  {
   "cell_type": "code",
   "execution_count": 54,
   "id": "1f25d60f-6f30-4bb1-9d98-67c3058afd6d",
   "metadata": {},
   "outputs": [],
   "source": [
    "df_upsampled = df_upsampled.drop(['clean_text_1'],axis=1)"
   ]
  },
  {
   "cell_type": "code",
   "execution_count": 55,
   "id": "1db6d527-b648-4b3b-9b71-ebf9652a6a35",
   "metadata": {},
   "outputs": [],
   "source": [
    "df_lemmanted = df_upsampled.copy()"
   ]
  },
  {
   "cell_type": "code",
   "execution_count": 56,
   "id": "76bc9f65-0578-49b3-9b58-9b164b9e3e3a",
   "metadata": {},
   "outputs": [
    {
     "data": {
      "text/html": [
       "<div>\n",
       "<style scoped>\n",
       "    .dataframe tbody tr th:only-of-type {\n",
       "        vertical-align: middle;\n",
       "    }\n",
       "\n",
       "    .dataframe tbody tr th {\n",
       "        vertical-align: top;\n",
       "    }\n",
       "\n",
       "    .dataframe thead th {\n",
       "        text-align: right;\n",
       "    }\n",
       "</style>\n",
       "<table border=\"1\" class=\"dataframe\">\n",
       "  <thead>\n",
       "    <tr style=\"text-align: right;\">\n",
       "      <th></th>\n",
       "      <th>sentiment</th>\n",
       "      <th>clean_text_2</th>\n",
       "    </tr>\n",
       "  </thead>\n",
       "  <tbody>\n",
       "    <tr>\n",
       "      <th>2</th>\n",
       "      <td>1</td>\n",
       "      <td>great location service Close Union Square hote...</td>\n",
       "    </tr>\n",
       "    <tr>\n",
       "      <th>5</th>\n",
       "      <td>1</td>\n",
       "      <td>a great location Steps Grand Central well situ...</td>\n",
       "    </tr>\n",
       "    <tr>\n",
       "      <th>6</th>\n",
       "      <td>1</td>\n",
       "      <td>its location this Hotel locate right heart San...</td>\n",
       "    </tr>\n",
       "    <tr>\n",
       "      <th>7</th>\n",
       "      <td>1</td>\n",
       "      <td>five Star Service I stay teenage boy resort on...</td>\n",
       "    </tr>\n",
       "    <tr>\n",
       "      <th>8</th>\n",
       "      <td>1</td>\n",
       "      <td>good airport hotel Seattle very good airporrt ...</td>\n",
       "    </tr>\n",
       "  </tbody>\n",
       "</table>\n",
       "</div>"
      ],
      "text/plain": [
       "   sentiment                                       clean_text_2\n",
       "2          1  great location service Close Union Square hote...\n",
       "5          1  a great location Steps Grand Central well situ...\n",
       "6          1  its location this Hotel locate right heart San...\n",
       "7          1  five Star Service I stay teenage boy resort on...\n",
       "8          1  good airport hotel Seattle very good airporrt ..."
      ]
     },
     "execution_count": 56,
     "metadata": {},
     "output_type": "execute_result"
    }
   ],
   "source": [
    "df_lemmanted.head()"
   ]
  },
  {
   "cell_type": "code",
   "execution_count": 57,
   "id": "11d1d635-e4c0-4a02-ae90-b35d26132edd",
   "metadata": {},
   "outputs": [
    {
     "data": {
      "text/plain": [
       "'a great location Steps Grand Central well situate hotel midtown within walk distance shop theatre restaurant'"
      ]
     },
     "execution_count": 57,
     "metadata": {},
     "output_type": "execute_result"
    }
   ],
   "source": [
    "df_lemmanted[\"clean_text_2\"][5]"
   ]
  },
  {
   "cell_type": "code",
   "execution_count": 58,
   "id": "468b657d-fc61-417f-bc89-78f1f112639c",
   "metadata": {},
   "outputs": [],
   "source": [
    "# Spliting the data into training and remaining (which will be further split into development and testing)\n",
    "X_train, X_remaining, y_train, y_remaining = train_test_split(df_lemmanted[\"clean_text_2\"], df_lemmanted[\"sentiment\"], train_size=1/3, random_state=42)\n",
    "\n",
    "# Further split the remaining data into development and testing\n",
    "X_dev, X_test, y_dev, y_test = train_test_split(X_remaining, y_remaining, test_size=0.5, random_state=42)\n",
    "\n",
    "# Spliting the development dataset into training and testing sets\n",
    "X_train_dev, X_test_dev, y_train_dev, y_test_dev = train_test_split(X_dev, y_dev, test_size=0.5, random_state=42)"
   ]
  },
  {
   "cell_type": "code",
   "execution_count": 59,
   "id": "1db5d854-5523-4704-bb19-b619b220c100",
   "metadata": {},
   "outputs": [
    {
     "name": "stdout",
     "output_type": "stream",
     "text": [
      "Accuracy: 0.940179806362379\n"
     ]
    }
   ],
   "source": [
    "# training an SVC classifier\n",
    "svc_classifier = SVC(C=10, gamma=1, kernel='rbf')\n",
    "\n",
    "svc_classifier.fit(X_train_dev_vector, y_train_dev)\n",
    "\n",
    "# Making predictions on the vectorized test set\n",
    "y_pred_svc = svc_classifier.predict(X_test_dev_vector)\n",
    "\n",
    "# Calculate accuracy\n",
    "accuracy = accuracy_score(y_test_dev, y_pred_svc)\n",
    "print(\"Accuracy:\", accuracy)\n"
   ]
  },
  {
   "cell_type": "code",
   "execution_count": 60,
   "id": "3d96d12b-66ed-4104-8fcf-eb0bb7135b3d",
   "metadata": {},
   "outputs": [
    {
     "name": "stdout",
     "output_type": "stream",
     "text": [
      "F1 score: 0.9389483590165864\n",
      "              precision    recall  f1-score   support\n",
      "\n",
      "           0       0.94      0.94      0.94      4414\n",
      "           1       0.94      0.94      0.94      4262\n",
      "\n",
      "    accuracy                           0.94      8676\n",
      "   macro avg       0.94      0.94      0.94      8676\n",
      "weighted avg       0.94      0.94      0.94      8676\n",
      "\n"
     ]
    }
   ],
   "source": [
    "print(\"F1 score:\", f1_score(y_test_dev, y_pred_svc))\n",
    "print(classification_report(y_test_dev, y_pred_svc))"
   ]
  },
  {
   "cell_type": "markdown",
   "id": "944a0b85-ca22-4fb8-9b06-91fbb26ca1e3",
   "metadata": {},
   "source": [
    "#### SVM after lowering text"
   ]
  },
  {
   "cell_type": "code",
   "execution_count": 61,
   "id": "3bb9f2cb-9bb2-412f-ae62-80a73e73ba4d",
   "metadata": {},
   "outputs": [],
   "source": [
    "def clean_text(text):\n",
    "    text = text.lower()\n",
    "    # Remove stopwords and punctuation\n",
    "    tokens = word_tokenize(text)\n",
    "    stop_words = stopwords.words(\"english\") + list(string.punctuation)\n",
    "    tokens = [token for token in tokens if token not in stop_words]\n",
    "    text1 = \" \".join(tokens)\n",
    "    doc = nlp(text1)\n",
    "    tokens = [token.lemma_ for token in doc]\n",
    "    return \" \".join(tokens)\n",
    "\n",
    "df_upsampled[\"clean_text_3\"] = df_upsampled[\"clean_text_2\"].apply(clean_text)"
   ]
  },
  {
   "cell_type": "code",
   "execution_count": 62,
   "id": "8395e0bf-0265-4e77-801a-1488a164f5f6",
   "metadata": {},
   "outputs": [],
   "source": [
    "df_upsampled = df_upsampled.drop(['clean_text_2'],axis=1)"
   ]
  },
  {
   "cell_type": "code",
   "execution_count": 63,
   "id": "af3ffdb2-5da3-4d1e-aa30-615921b43483",
   "metadata": {},
   "outputs": [],
   "source": [
    "df_preprocessing = df_upsampled.copy()"
   ]
  },
  {
   "cell_type": "code",
   "execution_count": 64,
   "id": "ad7394d4-4df6-4bd5-a0be-ff76dbaae137",
   "metadata": {},
   "outputs": [
    {
     "data": {
      "text/html": [
       "<div>\n",
       "<style scoped>\n",
       "    .dataframe tbody tr th:only-of-type {\n",
       "        vertical-align: middle;\n",
       "    }\n",
       "\n",
       "    .dataframe tbody tr th {\n",
       "        vertical-align: top;\n",
       "    }\n",
       "\n",
       "    .dataframe thead th {\n",
       "        text-align: right;\n",
       "    }\n",
       "</style>\n",
       "<table border=\"1\" class=\"dataframe\">\n",
       "  <thead>\n",
       "    <tr style=\"text-align: right;\">\n",
       "      <th></th>\n",
       "      <th>sentiment</th>\n",
       "      <th>clean_text_3</th>\n",
       "    </tr>\n",
       "  </thead>\n",
       "  <tbody>\n",
       "    <tr>\n",
       "      <th>2</th>\n",
       "      <td>1</td>\n",
       "      <td>great location service close union square hote...</td>\n",
       "    </tr>\n",
       "    <tr>\n",
       "      <th>5</th>\n",
       "      <td>1</td>\n",
       "      <td>great location step grand central well situate...</td>\n",
       "    </tr>\n",
       "    <tr>\n",
       "      <th>6</th>\n",
       "      <td>1</td>\n",
       "      <td>location hotel locate right heart san francisc...</td>\n",
       "    </tr>\n",
       "    <tr>\n",
       "      <th>7</th>\n",
       "      <td>1</td>\n",
       "      <td>five star service stay teenage boy resort one ...</td>\n",
       "    </tr>\n",
       "    <tr>\n",
       "      <th>8</th>\n",
       "      <td>1</td>\n",
       "      <td>good airport hotel seattle good airporrt hotel...</td>\n",
       "    </tr>\n",
       "  </tbody>\n",
       "</table>\n",
       "</div>"
      ],
      "text/plain": [
       "   sentiment                                       clean_text_3\n",
       "2          1  great location service close union square hote...\n",
       "5          1  great location step grand central well situate...\n",
       "6          1  location hotel locate right heart san francisc...\n",
       "7          1  five star service stay teenage boy resort one ...\n",
       "8          1  good airport hotel seattle good airporrt hotel..."
      ]
     },
     "execution_count": 64,
     "metadata": {},
     "output_type": "execute_result"
    }
   ],
   "source": [
    "df_preprocessing.head()"
   ]
  },
  {
   "cell_type": "code",
   "execution_count": 65,
   "id": "3c968c05-b4bb-4b66-82bc-d6eb58cf755d",
   "metadata": {},
   "outputs": [
    {
     "data": {
      "text/plain": [
       "'great location step grand central well situate hotel midtown within walk distance shop theatre restaurant'"
      ]
     },
     "execution_count": 65,
     "metadata": {},
     "output_type": "execute_result"
    }
   ],
   "source": [
    "df_preprocessing[\"clean_text_3\"][5]"
   ]
  },
  {
   "cell_type": "code",
   "execution_count": 66,
   "id": "f507b08f-a5e9-439d-b5f3-eaf126570a11",
   "metadata": {},
   "outputs": [],
   "source": [
    "# Spliting the data into training and remaining (which will be further split into development and testing)\n",
    "X_train, X_remaining, y_train, y_remaining = train_test_split(df_lemmanted[\"clean_text_3\"], df_lemmanted[\"sentiment\"], train_size=1/3, random_state=42)\n",
    "\n",
    "# Further split the remaining data into development and testing\n",
    "X_dev, X_test, y_dev, y_test = train_test_split(X_remaining, y_remaining, test_size=0.5, random_state=42)\n",
    "\n",
    "# Spliting the development dataset into training and testing sets\n",
    "X_train_dev, X_test_dev, y_train_dev, y_test_dev = train_test_split(X_dev, y_dev, test_size=0.5, random_state=42)"
   ]
  },
  {
   "cell_type": "code",
   "execution_count": 67,
   "id": "ac63e159-2dcf-4925-9ef0-d0c8b5911062",
   "metadata": {},
   "outputs": [
    {
     "name": "stdout",
     "output_type": "stream",
     "text": [
      "Accuracy: 0.940179806362379\n"
     ]
    }
   ],
   "source": [
    "# training an SVC classifier\n",
    "svc_classifier = SVC(C=10, gamma=1, kernel='rbf')\n",
    "\n",
    "svc_classifier.fit(X_train_dev_vector, y_train_dev)\n",
    "\n",
    "# Making predictions on the vectorized test set\n",
    "y_pred_svc = svc_classifier.predict(X_test_dev_vector)\n",
    "\n",
    "# Calculate accuracy\n",
    "accuracy = accuracy_score(y_test_dev, y_pred_svc)\n",
    "print(\"Accuracy:\", accuracy)\n"
   ]
  },
  {
   "cell_type": "code",
   "execution_count": 68,
   "id": "5ce5b773-7376-4e0e-88f9-ff1827bbdfa1",
   "metadata": {},
   "outputs": [
    {
     "name": "stdout",
     "output_type": "stream",
     "text": [
      "F1 score: 0.9389483590165864\n",
      "              precision    recall  f1-score   support\n",
      "\n",
      "           0       0.94      0.94      0.94      4414\n",
      "           1       0.94      0.94      0.94      4262\n",
      "\n",
      "    accuracy                           0.94      8676\n",
      "   macro avg       0.94      0.94      0.94      8676\n",
      "weighted avg       0.94      0.94      0.94      8676\n",
      "\n"
     ]
    }
   ],
   "source": [
    "print(\"F1 score:\", f1_score(y_test_dev, y_pred_svc))\n",
    "print(classification_report(y_test_dev, y_pred_svc))"
   ]
  },
  {
   "cell_type": "markdown",
   "id": "57f2d5b5-7d56-4257-b366-e6c6d016ac9c",
   "metadata": {},
   "source": [
    "**For my dataset I had no significant effect on the performance of text processing. I tried stop-word removal, lemmatization and lowercasing. This suggesst that the characteristics of the given dataset is relatively clean and homogeneous**"
   ]
  },
  {
   "cell_type": "markdown",
   "id": "333ba5cb",
   "metadata": {},
   "source": [
    "### 5. Sentiment classification using VADER lexicon and method"
   ]
  },
  {
   "cell_type": "code",
   "execution_count": 69,
   "id": "8d13ba8c-365b-4aa9-a71c-9ce590148318",
   "metadata": {},
   "outputs": [
    {
     "name": "stderr",
     "output_type": "stream",
     "text": [
      "[nltk_data] Downloading package vader_lexicon to\n",
      "[nltk_data]     C:\\Users\\a1881044\\AppData\\Roaming\\nltk_data...\n",
      "[nltk_data]   Package vader_lexicon is already up-to-date!\n"
     ]
    }
   ],
   "source": [
    "import nltk\n",
    "nltk.download('vader_lexicon')\n",
    "from nltk.sentiment.vader import SentimentIntensityAnalyzer"
   ]
  },
  {
   "cell_type": "code",
   "execution_count": 70,
   "id": "7f15579f-b942-4fb9-8b09-2b8b3b6be901",
   "metadata": {},
   "outputs": [],
   "source": [
    "def predict_and_test(model, X_test_bag_of_words):\n",
    "    predicted_y = model.predict(X_test_bag_of_words)\n",
    "    print((y_test==predicted_y)/len(y_test))"
   ]
  },
  {
   "cell_type": "code",
   "execution_count": 71,
   "id": "3b1a480d-5dc2-4503-be08-0042e412d591",
   "metadata": {},
   "outputs": [],
   "source": [
    "# Initialize SentimentIntensityAnalyzer\n",
    "analyser = SentimentIntensityAnalyzer()"
   ]
  },
  {
   "cell_type": "code",
   "execution_count": 72,
   "id": "58a6ebe4",
   "metadata": {},
   "outputs": [
    {
     "name": "stdout",
     "output_type": "stream",
     "text": [
      "La Quinta spanish gross we rent two room suite two teenage daughter husband if completely exhausted desperate room would return front desk get refund when enter room first thing notice toilet run non - stop we call front desk credit maintenance man within 5 minute within 15 minute problem fix we leave go dinner time get back room around 10 pm check 830 pm I go refrigerator away dinner leave this I notice dirty around frig I get look find floor bathroom dirty when I inspect bed I find sheet one bed rather large stain look like rust I hope we use bed also bed bottom sheet fit sheet flat one would stay someone would sleep the fold sofa dip middle like sway - back horse they enough coffee supply one person I could go also enough towel three people maintenence man use several wipe mess leave wet towel floor I call front desk towel tell come front desk get when husband complain morning return key management give we 50 179 rate I know long I could believe poor quality room: VADER negative\n",
      "\n",
      "lousy managment make reservation 2 night us 1 after day beach family I come back room bed make clean towel toilet paper nasty message telling since I check 1 pm charge extra day I call main desk tell I book day I tell confirmation number reservation 2 day one act like favor give rate night apology nothing I recomend place bet I spread word around town: VADER positive\n",
      "\n",
      "hell hole New York this one squalid depressing run disgusting hotel New York dark dingy atmosphere loose electric fixture stain threadbare sheet look though they re change every fifth use mould mildew bug if you re lucky might get old tv set actually work case could come handy drown sound couple room next door: VADER negative\n",
      "\n",
      "very nice hotel downtown Seattle beautiful room Hotel 1000 we get City View rather sea view 11th floor city look great the room large nice massive comfortable bed huge tv the bathroom great bath next window look city the tap weird water came pour ceiling give soak back head do not know going come its great location Waterfront short steeply uphill walk cool area Capitol HillThe service great bit disappointed breakfast order room service Overall would definitely stay visit Seattle: VADER positive\n",
      "\n"
     ]
    }
   ],
   "source": [
    "for text in X_test_dev[:4]:\n",
    "    score = analyser.polarity_scores(text)\n",
    "    if score['pos'] > score['neg'] :\n",
    "        print(text+\": \"+\"VADER positive\\n\")\n",
    "    else:\n",
    "        print(text+\": \"+\"VADER negative\\n\")"
   ]
  },
  {
   "cell_type": "code",
   "execution_count": 73,
   "id": "22e75d02-d8f7-4595-a981-e808f1262007",
   "metadata": {},
   "outputs": [
    {
     "data": {
      "text/html": [
       "<div>\n",
       "<style scoped>\n",
       "    .dataframe tbody tr th:only-of-type {\n",
       "        vertical-align: middle;\n",
       "    }\n",
       "\n",
       "    .dataframe tbody tr th {\n",
       "        vertical-align: top;\n",
       "    }\n",
       "\n",
       "    .dataframe thead th {\n",
       "        text-align: right;\n",
       "    }\n",
       "</style>\n",
       "<table border=\"1\" class=\"dataframe\">\n",
       "  <thead>\n",
       "    <tr style=\"text-align: right;\">\n",
       "      <th></th>\n",
       "      <th>sentiment</th>\n",
       "      <th>clean_text_3</th>\n",
       "    </tr>\n",
       "  </thead>\n",
       "  <tbody>\n",
       "    <tr>\n",
       "      <th>2</th>\n",
       "      <td>1</td>\n",
       "      <td>great location service close union square hote...</td>\n",
       "    </tr>\n",
       "    <tr>\n",
       "      <th>5</th>\n",
       "      <td>1</td>\n",
       "      <td>great location step grand central well situate...</td>\n",
       "    </tr>\n",
       "    <tr>\n",
       "      <th>6</th>\n",
       "      <td>1</td>\n",
       "      <td>location hotel locate right heart san francisc...</td>\n",
       "    </tr>\n",
       "    <tr>\n",
       "      <th>7</th>\n",
       "      <td>1</td>\n",
       "      <td>five star service stay teenage boy resort one ...</td>\n",
       "    </tr>\n",
       "    <tr>\n",
       "      <th>8</th>\n",
       "      <td>1</td>\n",
       "      <td>good airport hotel seattle good airporrt hotel...</td>\n",
       "    </tr>\n",
       "  </tbody>\n",
       "</table>\n",
       "</div>"
      ],
      "text/plain": [
       "   sentiment                                       clean_text_3\n",
       "2          1  great location service close union square hote...\n",
       "5          1  great location step grand central well situate...\n",
       "6          1  location hotel locate right heart san francisc...\n",
       "7          1  five star service stay teenage boy resort one ...\n",
       "8          1  good airport hotel seattle good airporrt hotel..."
      ]
     },
     "execution_count": 73,
     "metadata": {},
     "output_type": "execute_result"
    }
   ],
   "source": [
    "df_preprocessing.head()"
   ]
  },
  {
   "cell_type": "code",
   "execution_count": null,
   "id": "ea52ca06-3fb5-4243-abfc-90e9ffd1e375",
   "metadata": {},
   "outputs": [],
   "source": [
    "# df_preprocessing = df_preprocessing.drop(['label','neg','neu','pos','compound','predicted_label'],axis=1)"
   ]
  },
  {
   "cell_type": "code",
   "execution_count": 74,
   "id": "839db449-950f-4aa2-8247-42c0f8b1a9a6",
   "metadata": {},
   "outputs": [],
   "source": [
    "df_preprocessing['sentiments'] = df_preprocessing['clean_text_3'].apply(lambda sentiments: analyser.polarity_scores(sentiments))"
   ]
  },
  {
   "cell_type": "code",
   "execution_count": 75,
   "id": "14943e28-12ba-4ae9-a216-5e0fd5398a8f",
   "metadata": {},
   "outputs": [],
   "source": [
    "df_preprocessing = pd.concat([df_preprocessing.drop(['sentiments'], axis=1), df_preprocessing['sentiments'].apply(pd.Series)], axis=1)"
   ]
  },
  {
   "cell_type": "code",
   "execution_count": 76,
   "id": "73f10c6c-a7fd-42df-ae78-cfd8852961a6",
   "metadata": {},
   "outputs": [
    {
     "data": {
      "text/html": [
       "<div>\n",
       "<style scoped>\n",
       "    .dataframe tbody tr th:only-of-type {\n",
       "        vertical-align: middle;\n",
       "    }\n",
       "\n",
       "    .dataframe tbody tr th {\n",
       "        vertical-align: top;\n",
       "    }\n",
       "\n",
       "    .dataframe thead th {\n",
       "        text-align: right;\n",
       "    }\n",
       "</style>\n",
       "<table border=\"1\" class=\"dataframe\">\n",
       "  <thead>\n",
       "    <tr style=\"text-align: right;\">\n",
       "      <th></th>\n",
       "      <th>sentiment</th>\n",
       "      <th>clean_text_3</th>\n",
       "      <th>neg</th>\n",
       "      <th>neu</th>\n",
       "      <th>pos</th>\n",
       "      <th>compound</th>\n",
       "    </tr>\n",
       "  </thead>\n",
       "  <tbody>\n",
       "    <tr>\n",
       "      <th>2</th>\n",
       "      <td>1</td>\n",
       "      <td>great location service close union square hote...</td>\n",
       "      <td>0.000</td>\n",
       "      <td>0.746</td>\n",
       "      <td>0.254</td>\n",
       "      <td>0.8360</td>\n",
       "    </tr>\n",
       "    <tr>\n",
       "      <th>5</th>\n",
       "      <td>1</td>\n",
       "      <td>great location step grand central well situate...</td>\n",
       "      <td>0.000</td>\n",
       "      <td>0.566</td>\n",
       "      <td>0.434</td>\n",
       "      <td>0.8481</td>\n",
       "    </tr>\n",
       "    <tr>\n",
       "      <th>6</th>\n",
       "      <td>1</td>\n",
       "      <td>location hotel locate right heart san francisc...</td>\n",
       "      <td>0.048</td>\n",
       "      <td>0.690</td>\n",
       "      <td>0.262</td>\n",
       "      <td>0.9916</td>\n",
       "    </tr>\n",
       "    <tr>\n",
       "      <th>7</th>\n",
       "      <td>1</td>\n",
       "      <td>five star service stay teenage boy resort one ...</td>\n",
       "      <td>0.000</td>\n",
       "      <td>0.631</td>\n",
       "      <td>0.369</td>\n",
       "      <td>0.9825</td>\n",
       "    </tr>\n",
       "    <tr>\n",
       "      <th>8</th>\n",
       "      <td>1</td>\n",
       "      <td>good airport hotel seattle good airporrt hotel...</td>\n",
       "      <td>0.059</td>\n",
       "      <td>0.707</td>\n",
       "      <td>0.234</td>\n",
       "      <td>0.9571</td>\n",
       "    </tr>\n",
       "  </tbody>\n",
       "</table>\n",
       "</div>"
      ],
      "text/plain": [
       "   sentiment                                       clean_text_3    neg    neu  \\\n",
       "2          1  great location service close union square hote...  0.000  0.746   \n",
       "5          1  great location step grand central well situate...  0.000  0.566   \n",
       "6          1  location hotel locate right heart san francisc...  0.048  0.690   \n",
       "7          1  five star service stay teenage boy resort one ...  0.000  0.631   \n",
       "8          1  good airport hotel seattle good airporrt hotel...  0.059  0.707   \n",
       "\n",
       "     pos  compound  \n",
       "2  0.254    0.8360  \n",
       "5  0.434    0.8481  \n",
       "6  0.262    0.9916  \n",
       "7  0.369    0.9825  \n",
       "8  0.234    0.9571  "
      ]
     },
     "execution_count": 76,
     "metadata": {},
     "output_type": "execute_result"
    }
   ],
   "source": [
    "df_preprocessing.head()"
   ]
  },
  {
   "cell_type": "code",
   "execution_count": 77,
   "id": "d3aec0a3-c3df-43b7-9b60-45e0331dfc51",
   "metadata": {},
   "outputs": [],
   "source": [
    "df_preprocessing['predicted_label'] = df_preprocessing['compound'].apply(lambda score: 'pos' if score >= 0 else 'neg')"
   ]
  },
  {
   "cell_type": "code",
   "execution_count": 78,
   "id": "c34ecf5d-ebf5-4c95-b708-c4eb8219a098",
   "metadata": {},
   "outputs": [],
   "source": [
    "df_preprocessing['label'] = df_preprocessing['sentiment'].replace({1: 'pos', 0: 'neg'})"
   ]
  },
  {
   "cell_type": "code",
   "execution_count": 79,
   "id": "4515564b-14f4-475b-808c-eec2093f82fb",
   "metadata": {},
   "outputs": [
    {
     "data": {
      "text/html": [
       "<div>\n",
       "<style scoped>\n",
       "    .dataframe tbody tr th:only-of-type {\n",
       "        vertical-align: middle;\n",
       "    }\n",
       "\n",
       "    .dataframe tbody tr th {\n",
       "        vertical-align: top;\n",
       "    }\n",
       "\n",
       "    .dataframe thead th {\n",
       "        text-align: right;\n",
       "    }\n",
       "</style>\n",
       "<table border=\"1\" class=\"dataframe\">\n",
       "  <thead>\n",
       "    <tr style=\"text-align: right;\">\n",
       "      <th></th>\n",
       "      <th>sentiment</th>\n",
       "      <th>clean_text_3</th>\n",
       "      <th>neg</th>\n",
       "      <th>neu</th>\n",
       "      <th>pos</th>\n",
       "      <th>compound</th>\n",
       "      <th>predicted_label</th>\n",
       "      <th>label</th>\n",
       "    </tr>\n",
       "  </thead>\n",
       "  <tbody>\n",
       "    <tr>\n",
       "      <th>2</th>\n",
       "      <td>1</td>\n",
       "      <td>great location service close union square hote...</td>\n",
       "      <td>0.000</td>\n",
       "      <td>0.746</td>\n",
       "      <td>0.254</td>\n",
       "      <td>0.8360</td>\n",
       "      <td>pos</td>\n",
       "      <td>pos</td>\n",
       "    </tr>\n",
       "    <tr>\n",
       "      <th>5</th>\n",
       "      <td>1</td>\n",
       "      <td>great location step grand central well situate...</td>\n",
       "      <td>0.000</td>\n",
       "      <td>0.566</td>\n",
       "      <td>0.434</td>\n",
       "      <td>0.8481</td>\n",
       "      <td>pos</td>\n",
       "      <td>pos</td>\n",
       "    </tr>\n",
       "    <tr>\n",
       "      <th>6</th>\n",
       "      <td>1</td>\n",
       "      <td>location hotel locate right heart san francisc...</td>\n",
       "      <td>0.048</td>\n",
       "      <td>0.690</td>\n",
       "      <td>0.262</td>\n",
       "      <td>0.9916</td>\n",
       "      <td>pos</td>\n",
       "      <td>pos</td>\n",
       "    </tr>\n",
       "    <tr>\n",
       "      <th>7</th>\n",
       "      <td>1</td>\n",
       "      <td>five star service stay teenage boy resort one ...</td>\n",
       "      <td>0.000</td>\n",
       "      <td>0.631</td>\n",
       "      <td>0.369</td>\n",
       "      <td>0.9825</td>\n",
       "      <td>pos</td>\n",
       "      <td>pos</td>\n",
       "    </tr>\n",
       "    <tr>\n",
       "      <th>8</th>\n",
       "      <td>1</td>\n",
       "      <td>good airport hotel seattle good airporrt hotel...</td>\n",
       "      <td>0.059</td>\n",
       "      <td>0.707</td>\n",
       "      <td>0.234</td>\n",
       "      <td>0.9571</td>\n",
       "      <td>pos</td>\n",
       "      <td>pos</td>\n",
       "    </tr>\n",
       "  </tbody>\n",
       "</table>\n",
       "</div>"
      ],
      "text/plain": [
       "   sentiment                                       clean_text_3    neg    neu  \\\n",
       "2          1  great location service close union square hote...  0.000  0.746   \n",
       "5          1  great location step grand central well situate...  0.000  0.566   \n",
       "6          1  location hotel locate right heart san francisc...  0.048  0.690   \n",
       "7          1  five star service stay teenage boy resort one ...  0.000  0.631   \n",
       "8          1  good airport hotel seattle good airporrt hotel...  0.059  0.707   \n",
       "\n",
       "     pos  compound predicted_label label  \n",
       "2  0.254    0.8360             pos   pos  \n",
       "5  0.434    0.8481             pos   pos  \n",
       "6  0.262    0.9916             pos   pos  \n",
       "7  0.369    0.9825             pos   pos  \n",
       "8  0.234    0.9571             pos   pos  "
      ]
     },
     "execution_count": 79,
     "metadata": {},
     "output_type": "execute_result"
    }
   ],
   "source": [
    "df_preprocessing.head()"
   ]
  },
  {
   "cell_type": "code",
   "execution_count": 80,
   "id": "501e8527-4e93-4252-a343-cd016a1abe1c",
   "metadata": {},
   "outputs": [
    {
     "data": {
      "text/plain": [
       "66.93498808883425"
      ]
     },
     "execution_count": 80,
     "metadata": {},
     "output_type": "execute_result"
    }
   ],
   "source": [
    "#ACCURACY\n",
    "100*accuracy_score(df_preprocessing['label'], df_preprocessing['predicted_label'])"
   ]
  },
  {
   "cell_type": "code",
   "execution_count": 81,
   "id": "3e2e9ee2-460d-4303-b703-e7b377453122",
   "metadata": {},
   "outputs": [
    {
     "name": "stdout",
     "output_type": "stream",
     "text": [
      "              precision    recall  f1-score   support\n",
      "\n",
      "         neg       0.97      0.35      0.52     26026\n",
      "         pos       0.60      0.99      0.75     26026\n",
      "\n",
      "    accuracy                           0.67     52052\n",
      "   macro avg       0.78      0.67      0.63     52052\n",
      "weighted avg       0.78      0.67      0.63     52052\n",
      "\n"
     ]
    }
   ],
   "source": [
    "print(classification_report(df_preprocessing['label'], df_preprocessing['predicted_label']))"
   ]
  },
  {
   "cell_type": "code",
   "execution_count": 82,
   "id": "8c3315c6-297d-4f3c-8791-2611637dc0e3",
   "metadata": {},
   "outputs": [
    {
     "data": {
      "image/png": "[encoded data removed]",
      "text/plain": [
       "<Figure size 800x600 with 2 Axes>"
      ]
     },
     "metadata": {},
     "output_type": "display_data"
    }
   ],
   "source": [
    "from sklearn.metrics import confusion_matrix\n",
    "\n",
    "conf_matrix = confusion_matrix(df_preprocessing['label'], df_preprocessing['predicted_label'])\n",
    "\n",
    "# Plot the confusion matrix with annotations\n",
    "plt.figure(figsize=(8, 6))\n",
    "plt.imshow(conf_matrix, cmap=plt.cm.Blues)\n",
    "\n",
    "# Add annotations\n",
    "for i in range(conf_matrix.shape[0]):\n",
    "    for j in range(conf_matrix.shape[1]):\n",
    "        plt.text(j, i, str(conf_matrix[i, j]), ha='center', va='center', color='red')\n",
    "\n",
    "plt.title('Confusion Matrix')\n",
    "plt.colorbar()\n",
    "plt.xlabel('Predicted Label')\n",
    "plt.ylabel('True Label')\n",
    "plt.xticks([0, 1], ['Negative', 'Positive'])  \n",
    "plt.yticks([0, 1], ['Negative', 'Positive'])  \n",
    "plt.show()"
   ]
  },
  {
   "cell_type": "markdown",
   "id": "5e5748b9-acd6-46d1-ac05-e14764e47dcf",
   "metadata": {},
   "source": [
    "**The initial model without VADER performed well across all the metrics, with high precision, recall, and F1-score, resulting in an accuracy of 0.94.\n",
    "Using VADER model significantly dropped the performance, specially in terms of recall for negitive sentiment, i.e. 0.35. Using VADER we achieved high precision both positive and negative sentiment however, the overall accuarcy is lower compared to the initial model with out VADER[2]**"
   ]
  },
  {
   "cell_type": "markdown",
   "id": "ba7ea3a2",
   "metadata": {},
   "source": [
    "### 6. Combining VADER with the best classifier"
   ]
  },
  {
   "cell_type": "code",
   "execution_count": 83,
   "id": "afdaff5d-b7b8-4173-ba41-162d535e12a6",
   "metadata": {},
   "outputs": [],
   "source": [
    "sid = SentimentIntensityAnalyzer()\n",
    "rating_df = df_preprocessing.copy()"
   ]
  },
  {
   "cell_type": "code",
   "execution_count": 84,
   "id": "db92c96e-a2bb-4560-83b9-0fd8749036f6",
   "metadata": {},
   "outputs": [
    {
     "data": {
      "text/html": [
       "<div>\n",
       "<style scoped>\n",
       "    .dataframe tbody tr th:only-of-type {\n",
       "        vertical-align: middle;\n",
       "    }\n",
       "\n",
       "    .dataframe tbody tr th {\n",
       "        vertical-align: top;\n",
       "    }\n",
       "\n",
       "    .dataframe thead th {\n",
       "        text-align: right;\n",
       "    }\n",
       "</style>\n",
       "<table border=\"1\" class=\"dataframe\">\n",
       "  <thead>\n",
       "    <tr style=\"text-align: right;\">\n",
       "      <th></th>\n",
       "      <th>sentiment</th>\n",
       "      <th>clean_text_3</th>\n",
       "      <th>neg</th>\n",
       "      <th>neu</th>\n",
       "      <th>pos</th>\n",
       "      <th>compound</th>\n",
       "      <th>predicted_label</th>\n",
       "      <th>label</th>\n",
       "    </tr>\n",
       "  </thead>\n",
       "  <tbody>\n",
       "    <tr>\n",
       "      <th>2</th>\n",
       "      <td>1</td>\n",
       "      <td>great location service close union square hote...</td>\n",
       "      <td>0.000</td>\n",
       "      <td>0.746</td>\n",
       "      <td>0.254</td>\n",
       "      <td>0.8360</td>\n",
       "      <td>pos</td>\n",
       "      <td>pos</td>\n",
       "    </tr>\n",
       "    <tr>\n",
       "      <th>5</th>\n",
       "      <td>1</td>\n",
       "      <td>great location step grand central well situate...</td>\n",
       "      <td>0.000</td>\n",
       "      <td>0.566</td>\n",
       "      <td>0.434</td>\n",
       "      <td>0.8481</td>\n",
       "      <td>pos</td>\n",
       "      <td>pos</td>\n",
       "    </tr>\n",
       "    <tr>\n",
       "      <th>6</th>\n",
       "      <td>1</td>\n",
       "      <td>location hotel locate right heart san francisc...</td>\n",
       "      <td>0.048</td>\n",
       "      <td>0.690</td>\n",
       "      <td>0.262</td>\n",
       "      <td>0.9916</td>\n",
       "      <td>pos</td>\n",
       "      <td>pos</td>\n",
       "    </tr>\n",
       "    <tr>\n",
       "      <th>7</th>\n",
       "      <td>1</td>\n",
       "      <td>five star service stay teenage boy resort one ...</td>\n",
       "      <td>0.000</td>\n",
       "      <td>0.631</td>\n",
       "      <td>0.369</td>\n",
       "      <td>0.9825</td>\n",
       "      <td>pos</td>\n",
       "      <td>pos</td>\n",
       "    </tr>\n",
       "    <tr>\n",
       "      <th>8</th>\n",
       "      <td>1</td>\n",
       "      <td>good airport hotel seattle good airporrt hotel...</td>\n",
       "      <td>0.059</td>\n",
       "      <td>0.707</td>\n",
       "      <td>0.234</td>\n",
       "      <td>0.9571</td>\n",
       "      <td>pos</td>\n",
       "      <td>pos</td>\n",
       "    </tr>\n",
       "  </tbody>\n",
       "</table>\n",
       "</div>"
      ],
      "text/plain": [
       "   sentiment                                       clean_text_3    neg    neu  \\\n",
       "2          1  great location service close union square hote...  0.000  0.746   \n",
       "5          1  great location step grand central well situate...  0.000  0.566   \n",
       "6          1  location hotel locate right heart san francisc...  0.048  0.690   \n",
       "7          1  five star service stay teenage boy resort one ...  0.000  0.631   \n",
       "8          1  good airport hotel seattle good airporrt hotel...  0.059  0.707   \n",
       "\n",
       "     pos  compound predicted_label label  \n",
       "2  0.254    0.8360             pos   pos  \n",
       "5  0.434    0.8481             pos   pos  \n",
       "6  0.262    0.9916             pos   pos  \n",
       "7  0.369    0.9825             pos   pos  \n",
       "8  0.234    0.9571             pos   pos  "
      ]
     },
     "execution_count": 84,
     "metadata": {},
     "output_type": "execute_result"
    }
   ],
   "source": [
    "rating_df.head()"
   ]
  },
  {
   "cell_type": "code",
   "execution_count": 85,
   "id": "9e3e7403-c3ce-4eca-abd3-169487190557",
   "metadata": {},
   "outputs": [],
   "source": [
    "\n",
    "# add number of characters column\n",
    "rating_df[\"nb_chars\"] = rating_df[\"clean_text_3\"].apply(lambda x: len(x))\n",
    "\n",
    "# add number of words column\n",
    "rating_df[\"nb_words\"] = rating_df[\"clean_text_3\"].apply(lambda x: len(x.split(\" \")))"
   ]
  },
  {
   "cell_type": "code",
   "execution_count": null,
   "id": "c83e6862-c51e-4db4-88b2-1448c6896037",
   "metadata": {},
   "outputs": [],
   "source": [
    "# !pip install gensim"
   ]
  },
  {
   "cell_type": "code",
   "execution_count": 86,
   "id": "1e3de495-3f99-4bbe-9e3a-e71603f4f592",
   "metadata": {},
   "outputs": [],
   "source": [
    "# create doc2vec vector columns\n",
    "from gensim.test.utils import common_texts\n",
    "from gensim.models.doc2vec import Doc2Vec, TaggedDocument\n",
    "\n",
    "documents = [TaggedDocument(doc, [i]) for i, doc in enumerate(rating_df[\"clean_text_3\"].apply(lambda x: x.split(\" \")))]\n",
    "\n",
    "# train a Doc2Vec model with our text data\n",
    "model = Doc2Vec(documents, vector_size=5, window=2, min_count=1, workers=4)\n",
    "\n",
    "# transform each document into a vector data\n",
    "doc2vec_df = rating_df[\"clean_text_3\"].apply(lambda x: model.infer_vector(x.split(\" \"))).apply(pd.Series)\n",
    "doc2vec_df.columns = [\"doc2vec_vector_\" + str(x) for x in doc2vec_df.columns]\n",
    "reviews_df = pd.concat([rating_df, doc2vec_df], axis=1)"
   ]
  },
  {
   "cell_type": "code",
   "execution_count": 87,
   "id": "2488133b-2159-4df0-a153-ea3c0cd78c06",
   "metadata": {},
   "outputs": [],
   "source": [
    "# add tf-idfs columns\n",
    "from sklearn.feature_extraction.text import TfidfVectorizer\n",
    "tfidf = TfidfVectorizer(min_df = 10)\n",
    "tfidf_result = tfidf.fit_transform(rating_df[\"clean_text_3\"]).toarray()\n",
    "tfidf_df = pd.DataFrame(tfidf_result, columns = tfidf.get_feature_names())\n",
    "tfidf_df.columns = [\"word_\" + str(x) for x in tfidf_df.columns]\n",
    "tfidf_df.index = reviews_df.index\n",
    "reviews_df = pd.concat([reviews_df, tfidf_df], axis=1)"
   ]
  },
  {
   "cell_type": "code",
   "execution_count": 88,
   "id": "da8c22a1-652b-4dab-9cb3-fa16e3299256",
   "metadata": {},
   "outputs": [
    {
     "data": {
      "text/html": [
       "<div>\n",
       "<style scoped>\n",
       "    .dataframe tbody tr th:only-of-type {\n",
       "        vertical-align: middle;\n",
       "    }\n",
       "\n",
       "    .dataframe tbody tr th {\n",
       "        vertical-align: top;\n",
       "    }\n",
       "\n",
       "    .dataframe thead th {\n",
       "        text-align: right;\n",
       "    }\n",
       "</style>\n",
       "<table border=\"1\" class=\"dataframe\">\n",
       "  <thead>\n",
       "    <tr style=\"text-align: right;\">\n",
       "      <th></th>\n",
       "      <th>clean_text_3</th>\n",
       "      <th>pos</th>\n",
       "    </tr>\n",
       "  </thead>\n",
       "  <tbody>\n",
       "    <tr>\n",
       "      <th>3690</th>\n",
       "      <td>exciting love hotel friendliness staff helpful...</td>\n",
       "      <td>0.892</td>\n",
       "    </tr>\n",
       "    <tr>\n",
       "      <th>21714</th>\n",
       "      <td>great value great value money location good</td>\n",
       "      <td>0.888</td>\n",
       "    </tr>\n",
       "    <tr>\n",
       "      <th>15489</th>\n",
       "      <td>fantastic clean great location great value wis...</td>\n",
       "      <td>0.887</td>\n",
       "    </tr>\n",
       "    <tr>\n",
       "      <th>6280</th>\n",
       "      <td>great staff nice hotel staff treat like specia...</td>\n",
       "      <td>0.874</td>\n",
       "    </tr>\n",
       "    <tr>\n",
       "      <th>29429</th>\n",
       "      <td>great stay would recommend family friend great...</td>\n",
       "      <td>0.855</td>\n",
       "    </tr>\n",
       "    <tr>\n",
       "      <th>13663</th>\n",
       "      <td>excellent room exceptionally clean comfortable...</td>\n",
       "      <td>0.844</td>\n",
       "    </tr>\n",
       "    <tr>\n",
       "      <th>12628</th>\n",
       "      <td>love back sure satisfied pleased servicedianne...</td>\n",
       "      <td>0.833</td>\n",
       "    </tr>\n",
       "    <tr>\n",
       "      <th>28943</th>\n",
       "      <td>fantastic stay clean clean clean great price n...</td>\n",
       "      <td>0.826</td>\n",
       "    </tr>\n",
       "    <tr>\n",
       "      <th>29315</th>\n",
       "      <td>great excellent location clean friendly staff ...</td>\n",
       "      <td>0.826</td>\n",
       "    </tr>\n",
       "    <tr>\n",
       "      <th>17085</th>\n",
       "      <td>nice warm people nice warm people</td>\n",
       "      <td>0.825</td>\n",
       "    </tr>\n",
       "  </tbody>\n",
       "</table>\n",
       "</div>"
      ],
      "text/plain": [
       "                                            clean_text_3    pos\n",
       "3690   exciting love hotel friendliness staff helpful...  0.892\n",
       "21714        great value great value money location good  0.888\n",
       "15489  fantastic clean great location great value wis...  0.887\n",
       "6280   great staff nice hotel staff treat like specia...  0.874\n",
       "29429  great stay would recommend family friend great...  0.855\n",
       "13663  excellent room exceptionally clean comfortable...  0.844\n",
       "12628  love back sure satisfied pleased servicedianne...  0.833\n",
       "28943  fantastic stay clean clean clean great price n...  0.826\n",
       "29315  great excellent location clean friendly staff ...  0.826\n",
       "17085                  nice warm people nice warm people  0.825"
      ]
     },
     "execution_count": 88,
     "metadata": {},
     "output_type": "execute_result"
    }
   ],
   "source": [
    "reviews_df[reviews_df[\"nb_words\"] >= 5].sort_values(\"pos\", ascending = False)[[\"clean_text_3\", \"pos\"]].head(10)"
   ]
  },
  {
   "cell_type": "code",
   "execution_count": 89,
   "id": "fc79cc61-f162-4dd6-9843-5ac2e821f4e8",
   "metadata": {},
   "outputs": [
    {
     "data": {
      "text/html": [
       "<div>\n",
       "<style scoped>\n",
       "    .dataframe tbody tr th:only-of-type {\n",
       "        vertical-align: middle;\n",
       "    }\n",
       "\n",
       "    .dataframe tbody tr th {\n",
       "        vertical-align: top;\n",
       "    }\n",
       "\n",
       "    .dataframe thead th {\n",
       "        text-align: right;\n",
       "    }\n",
       "</style>\n",
       "<table border=\"1\" class=\"dataframe\">\n",
       "  <thead>\n",
       "    <tr style=\"text-align: right;\">\n",
       "      <th></th>\n",
       "      <th>clean_text_3</th>\n",
       "      <th>neg</th>\n",
       "    </tr>\n",
       "  </thead>\n",
       "  <tbody>\n",
       "    <tr>\n",
       "      <th>28695</th>\n",
       "      <td>poor service stay poor service dissappointing</td>\n",
       "      <td>0.608</td>\n",
       "    </tr>\n",
       "    <tr>\n",
       "      <th>28695</th>\n",
       "      <td>poor service stay poor service dissappointing</td>\n",
       "      <td>0.608</td>\n",
       "    </tr>\n",
       "    <tr>\n",
       "      <th>28695</th>\n",
       "      <td>poor service stay poor service dissappointing</td>\n",
       "      <td>0.608</td>\n",
       "    </tr>\n",
       "    <tr>\n",
       "      <th>28695</th>\n",
       "      <td>poor service stay poor service dissappointing</td>\n",
       "      <td>0.608</td>\n",
       "    </tr>\n",
       "    <tr>\n",
       "      <th>17266</th>\n",
       "      <td>noisy dump radisson lax tired hotel noisy lous...</td>\n",
       "      <td>0.579</td>\n",
       "    </tr>\n",
       "    <tr>\n",
       "      <th>17266</th>\n",
       "      <td>noisy dump radisson lax tired hotel noisy lous...</td>\n",
       "      <td>0.579</td>\n",
       "    </tr>\n",
       "    <tr>\n",
       "      <th>17266</th>\n",
       "      <td>noisy dump radisson lax tired hotel noisy lous...</td>\n",
       "      <td>0.579</td>\n",
       "    </tr>\n",
       "    <tr>\n",
       "      <th>17266</th>\n",
       "      <td>noisy dump radisson lax tired hotel noisy lous...</td>\n",
       "      <td>0.579</td>\n",
       "    </tr>\n",
       "    <tr>\n",
       "      <th>17266</th>\n",
       "      <td>noisy dump radisson lax tired hotel noisy lous...</td>\n",
       "      <td>0.579</td>\n",
       "    </tr>\n",
       "    <tr>\n",
       "      <th>17266</th>\n",
       "      <td>noisy dump radisson lax tired hotel noisy lous...</td>\n",
       "      <td>0.579</td>\n",
       "    </tr>\n",
       "  </tbody>\n",
       "</table>\n",
       "</div>"
      ],
      "text/plain": [
       "                                            clean_text_3    neg\n",
       "28695      poor service stay poor service dissappointing  0.608\n",
       "28695      poor service stay poor service dissappointing  0.608\n",
       "28695      poor service stay poor service dissappointing  0.608\n",
       "28695      poor service stay poor service dissappointing  0.608\n",
       "17266  noisy dump radisson lax tired hotel noisy lous...  0.579\n",
       "17266  noisy dump radisson lax tired hotel noisy lous...  0.579\n",
       "17266  noisy dump radisson lax tired hotel noisy lous...  0.579\n",
       "17266  noisy dump radisson lax tired hotel noisy lous...  0.579\n",
       "17266  noisy dump radisson lax tired hotel noisy lous...  0.579\n",
       "17266  noisy dump radisson lax tired hotel noisy lous...  0.579"
      ]
     },
     "execution_count": 89,
     "metadata": {},
     "output_type": "execute_result"
    }
   ],
   "source": [
    "# lowest negative sentiment reviews (with more than 5 words)\n",
    "reviews_df[reviews_df[\"nb_words\"] >= 5].sort_values(\"neg\", ascending = False)[[\"clean_text_3\", \"neg\"]].head(10)"
   ]
  },
  {
   "cell_type": "code",
   "execution_count": 90,
   "id": "cbf1693c-0d6f-4c2f-9c74-47c814e4f811",
   "metadata": {},
   "outputs": [
    {
     "data": {
      "text/html": [
       "<div>\n",
       "<style scoped>\n",
       "    .dataframe tbody tr th:only-of-type {\n",
       "        vertical-align: middle;\n",
       "    }\n",
       "\n",
       "    .dataframe tbody tr th {\n",
       "        vertical-align: top;\n",
       "    }\n",
       "\n",
       "    .dataframe thead th {\n",
       "        text-align: right;\n",
       "    }\n",
       "</style>\n",
       "<table border=\"1\" class=\"dataframe\">\n",
       "  <thead>\n",
       "    <tr style=\"text-align: right;\">\n",
       "      <th></th>\n",
       "      <th>sentiment</th>\n",
       "      <th>clean_text_3</th>\n",
       "      <th>neg</th>\n",
       "      <th>neu</th>\n",
       "      <th>pos</th>\n",
       "      <th>compound</th>\n",
       "      <th>predicted_label</th>\n",
       "      <th>label</th>\n",
       "      <th>nb_chars</th>\n",
       "      <th>nb_words</th>\n",
       "      <th>...</th>\n",
       "      <th>word_zen</th>\n",
       "      <th>word_zenith</th>\n",
       "      <th>word_zero</th>\n",
       "      <th>word_zesty</th>\n",
       "      <th>word_zig</th>\n",
       "      <th>word_zip</th>\n",
       "      <th>word_zippo</th>\n",
       "      <th>word_zombie</th>\n",
       "      <th>word_zone</th>\n",
       "      <th>word_zoo</th>\n",
       "    </tr>\n",
       "  </thead>\n",
       "  <tbody>\n",
       "    <tr>\n",
       "      <th>2</th>\n",
       "      <td>1</td>\n",
       "      <td>great location service close union square hote...</td>\n",
       "      <td>0.000</td>\n",
       "      <td>0.746</td>\n",
       "      <td>0.254</td>\n",
       "      <td>0.8360</td>\n",
       "      <td>pos</td>\n",
       "      <td>pos</td>\n",
       "      <td>202</td>\n",
       "      <td>34</td>\n",
       "      <td>...</td>\n",
       "      <td>0.0</td>\n",
       "      <td>0.0</td>\n",
       "      <td>0.0</td>\n",
       "      <td>0.0</td>\n",
       "      <td>0.0</td>\n",
       "      <td>0.0</td>\n",
       "      <td>0.0</td>\n",
       "      <td>0.0</td>\n",
       "      <td>0.0</td>\n",
       "      <td>0.0</td>\n",
       "    </tr>\n",
       "    <tr>\n",
       "      <th>5</th>\n",
       "      <td>1</td>\n",
       "      <td>great location step grand central well situate...</td>\n",
       "      <td>0.000</td>\n",
       "      <td>0.566</td>\n",
       "      <td>0.434</td>\n",
       "      <td>0.8481</td>\n",
       "      <td>pos</td>\n",
       "      <td>pos</td>\n",
       "      <td>105</td>\n",
       "      <td>15</td>\n",
       "      <td>...</td>\n",
       "      <td>0.0</td>\n",
       "      <td>0.0</td>\n",
       "      <td>0.0</td>\n",
       "      <td>0.0</td>\n",
       "      <td>0.0</td>\n",
       "      <td>0.0</td>\n",
       "      <td>0.0</td>\n",
       "      <td>0.0</td>\n",
       "      <td>0.0</td>\n",
       "      <td>0.0</td>\n",
       "    </tr>\n",
       "    <tr>\n",
       "      <th>6</th>\n",
       "      <td>1</td>\n",
       "      <td>location hotel locate right heart san francisc...</td>\n",
       "      <td>0.048</td>\n",
       "      <td>0.690</td>\n",
       "      <td>0.262</td>\n",
       "      <td>0.9916</td>\n",
       "      <td>pos</td>\n",
       "      <td>pos</td>\n",
       "      <td>1104</td>\n",
       "      <td>181</td>\n",
       "      <td>...</td>\n",
       "      <td>0.0</td>\n",
       "      <td>0.0</td>\n",
       "      <td>0.0</td>\n",
       "      <td>0.0</td>\n",
       "      <td>0.0</td>\n",
       "      <td>0.0</td>\n",
       "      <td>0.0</td>\n",
       "      <td>0.0</td>\n",
       "      <td>0.0</td>\n",
       "      <td>0.0</td>\n",
       "    </tr>\n",
       "    <tr>\n",
       "      <th>7</th>\n",
       "      <td>1</td>\n",
       "      <td>five star service stay teenage boy resort one ...</td>\n",
       "      <td>0.000</td>\n",
       "      <td>0.631</td>\n",
       "      <td>0.369</td>\n",
       "      <td>0.9825</td>\n",
       "      <td>pos</td>\n",
       "      <td>pos</td>\n",
       "      <td>385</td>\n",
       "      <td>62</td>\n",
       "      <td>...</td>\n",
       "      <td>0.0</td>\n",
       "      <td>0.0</td>\n",
       "      <td>0.0</td>\n",
       "      <td>0.0</td>\n",
       "      <td>0.0</td>\n",
       "      <td>0.0</td>\n",
       "      <td>0.0</td>\n",
       "      <td>0.0</td>\n",
       "      <td>0.0</td>\n",
       "      <td>0.0</td>\n",
       "    </tr>\n",
       "    <tr>\n",
       "      <th>8</th>\n",
       "      <td>1</td>\n",
       "      <td>good airport hotel seattle good airporrt hotel...</td>\n",
       "      <td>0.059</td>\n",
       "      <td>0.707</td>\n",
       "      <td>0.234</td>\n",
       "      <td>0.9571</td>\n",
       "      <td>pos</td>\n",
       "      <td>pos</td>\n",
       "      <td>518</td>\n",
       "      <td>83</td>\n",
       "      <td>...</td>\n",
       "      <td>0.0</td>\n",
       "      <td>0.0</td>\n",
       "      <td>0.0</td>\n",
       "      <td>0.0</td>\n",
       "      <td>0.0</td>\n",
       "      <td>0.0</td>\n",
       "      <td>0.0</td>\n",
       "      <td>0.0</td>\n",
       "      <td>0.0</td>\n",
       "      <td>0.0</td>\n",
       "    </tr>\n",
       "  </tbody>\n",
       "</table>\n",
       "<p>5 rows × 12589 columns</p>\n",
       "</div>"
      ],
      "text/plain": [
       "   sentiment                                       clean_text_3    neg    neu  \\\n",
       "2          1  great location service close union square hote...  0.000  0.746   \n",
       "5          1  great location step grand central well situate...  0.000  0.566   \n",
       "6          1  location hotel locate right heart san francisc...  0.048  0.690   \n",
       "7          1  five star service stay teenage boy resort one ...  0.000  0.631   \n",
       "8          1  good airport hotel seattle good airporrt hotel...  0.059  0.707   \n",
       "\n",
       "     pos  compound predicted_label label  nb_chars  nb_words  ...  word_zen  \\\n",
       "2  0.254    0.8360             pos   pos       202        34  ...       0.0   \n",
       "5  0.434    0.8481             pos   pos       105        15  ...       0.0   \n",
       "6  0.262    0.9916             pos   pos      1104       181  ...       0.0   \n",
       "7  0.369    0.9825             pos   pos       385        62  ...       0.0   \n",
       "8  0.234    0.9571             pos   pos       518        83  ...       0.0   \n",
       "\n",
       "   word_zenith  word_zero  word_zesty  word_zig  word_zip  word_zippo  \\\n",
       "2          0.0        0.0         0.0       0.0       0.0         0.0   \n",
       "5          0.0        0.0         0.0       0.0       0.0         0.0   \n",
       "6          0.0        0.0         0.0       0.0       0.0         0.0   \n",
       "7          0.0        0.0         0.0       0.0       0.0         0.0   \n",
       "8          0.0        0.0         0.0       0.0       0.0         0.0   \n",
       "\n",
       "   word_zombie  word_zone  word_zoo  \n",
       "2          0.0        0.0       0.0  \n",
       "5          0.0        0.0       0.0  \n",
       "6          0.0        0.0       0.0  \n",
       "7          0.0        0.0       0.0  \n",
       "8          0.0        0.0       0.0  \n",
       "\n",
       "[5 rows x 12589 columns]"
      ]
     },
     "execution_count": 90,
     "metadata": {},
     "output_type": "execute_result"
    }
   ],
   "source": [
    "reviews_df.head()"
   ]
  },
  {
   "cell_type": "code",
   "execution_count": 91,
   "id": "3bb156b0-201b-41d2-9716-eeb3ad4f0c20",
   "metadata": {},
   "outputs": [],
   "source": [
    "reviews_df['predicted_label'] = reviews_df['predicted_label'].replace({'pos':1, 'neg': 0})"
   ]
  },
  {
   "cell_type": "code",
   "execution_count": 92,
   "id": "6b4b2eb0-d0fe-49fe-b7b1-9fd8732d382c",
   "metadata": {},
   "outputs": [],
   "source": [
    "# feature selection\n",
    "label = \"sentiment\"\n",
    "ignore_cols = [label, \"clean_text_3\", \"label\"]\n",
    "features = [c for c in reviews_df.columns if c not in ignore_cols]"
   ]
  },
  {
   "cell_type": "code",
   "execution_count": 93,
   "id": "5525e529-bf7f-44b9-b959-4c24ed3ff5d3",
   "metadata": {},
   "outputs": [
    {
     "name": "stdout",
     "output_type": "stream",
     "text": [
      "<class 'pandas.core.frame.DataFrame'>\n",
      "Index: 52052 entries, 2 to 14179\n",
      "Columns: 12589 entries, sentiment to word_zoo\n",
      "dtypes: float32(5), float64(12578), int64(4), object(2)\n",
      "memory usage: 4.9+ GB\n"
     ]
    }
   ],
   "source": [
    "reviews_df.info()"
   ]
  },
  {
   "cell_type": "code",
   "execution_count": 94,
   "id": "a8606087-fe96-47d5-b32f-ac1d792a48c0",
   "metadata": {},
   "outputs": [],
   "source": [
    "X_train, X_remaining, y_train, y_remaining = train_test_split(reviews_df[features], reviews_df[label], train_size=1/3, random_state=42)\n",
    "X_dev, X_test, y_dev, y_test = train_test_split(X_remaining, y_remaining, test_size=0.5, random_state=42)"
   ]
  },
  {
   "cell_type": "code",
   "execution_count": 95,
   "id": "0f3acbb3-00c9-4cf5-baa0-e3b7c89983a1",
   "metadata": {},
   "outputs": [],
   "source": [
    "X_train_dev, X_test_dev, y_train_dev, y_test_dev = train_test_split(X_dev, y_dev, test_size=0.5, random_state=42)"
   ]
  },
  {
   "cell_type": "code",
   "execution_count": 96,
   "id": "bfd2814b-a9e6-4e92-b50c-74019f6bfd2d",
   "metadata": {},
   "outputs": [
    {
     "data": {
      "text/html": [
       "<div>\n",
       "<style scoped>\n",
       "    .dataframe tbody tr th:only-of-type {\n",
       "        vertical-align: middle;\n",
       "    }\n",
       "\n",
       "    .dataframe tbody tr th {\n",
       "        vertical-align: top;\n",
       "    }\n",
       "\n",
       "    .dataframe thead th {\n",
       "        text-align: right;\n",
       "    }\n",
       "</style>\n",
       "<table border=\"1\" class=\"dataframe\">\n",
       "  <thead>\n",
       "    <tr style=\"text-align: right;\">\n",
       "      <th></th>\n",
       "      <th>neg</th>\n",
       "      <th>neu</th>\n",
       "      <th>pos</th>\n",
       "      <th>compound</th>\n",
       "      <th>predicted_label</th>\n",
       "      <th>nb_chars</th>\n",
       "      <th>nb_words</th>\n",
       "      <th>doc2vec_vector_0</th>\n",
       "      <th>doc2vec_vector_1</th>\n",
       "      <th>doc2vec_vector_2</th>\n",
       "      <th>...</th>\n",
       "      <th>word_zen</th>\n",
       "      <th>word_zenith</th>\n",
       "      <th>word_zero</th>\n",
       "      <th>word_zesty</th>\n",
       "      <th>word_zig</th>\n",
       "      <th>word_zip</th>\n",
       "      <th>word_zippo</th>\n",
       "      <th>word_zombie</th>\n",
       "      <th>word_zone</th>\n",
       "      <th>word_zoo</th>\n",
       "    </tr>\n",
       "  </thead>\n",
       "  <tbody>\n",
       "    <tr>\n",
       "      <th>9797</th>\n",
       "      <td>0.103</td>\n",
       "      <td>0.701</td>\n",
       "      <td>0.197</td>\n",
       "      <td>0.9430</td>\n",
       "      <td>1</td>\n",
       "      <td>752</td>\n",
       "      <td>121</td>\n",
       "      <td>0.129078</td>\n",
       "      <td>0.356881</td>\n",
       "      <td>0.227680</td>\n",
       "      <td>...</td>\n",
       "      <td>0.0</td>\n",
       "      <td>0.0</td>\n",
       "      <td>0.0</td>\n",
       "      <td>0.0</td>\n",
       "      <td>0.0</td>\n",
       "      <td>0.0</td>\n",
       "      <td>0.0</td>\n",
       "      <td>0.0</td>\n",
       "      <td>0.0</td>\n",
       "      <td>0.0</td>\n",
       "    </tr>\n",
       "    <tr>\n",
       "      <th>15219</th>\n",
       "      <td>0.195</td>\n",
       "      <td>0.627</td>\n",
       "      <td>0.178</td>\n",
       "      <td>-0.3164</td>\n",
       "      <td>0</td>\n",
       "      <td>1268</td>\n",
       "      <td>191</td>\n",
       "      <td>1.168869</td>\n",
       "      <td>-0.481284</td>\n",
       "      <td>0.911543</td>\n",
       "      <td>...</td>\n",
       "      <td>0.0</td>\n",
       "      <td>0.0</td>\n",
       "      <td>0.0</td>\n",
       "      <td>0.0</td>\n",
       "      <td>0.0</td>\n",
       "      <td>0.0</td>\n",
       "      <td>0.0</td>\n",
       "      <td>0.0</td>\n",
       "      <td>0.0</td>\n",
       "      <td>0.0</td>\n",
       "    </tr>\n",
       "    <tr>\n",
       "      <th>5928</th>\n",
       "      <td>0.031</td>\n",
       "      <td>0.515</td>\n",
       "      <td>0.454</td>\n",
       "      <td>0.9805</td>\n",
       "      <td>1</td>\n",
       "      <td>252</td>\n",
       "      <td>42</td>\n",
       "      <td>-0.093535</td>\n",
       "      <td>0.401283</td>\n",
       "      <td>0.108901</td>\n",
       "      <td>...</td>\n",
       "      <td>0.0</td>\n",
       "      <td>0.0</td>\n",
       "      <td>0.0</td>\n",
       "      <td>0.0</td>\n",
       "      <td>0.0</td>\n",
       "      <td>0.0</td>\n",
       "      <td>0.0</td>\n",
       "      <td>0.0</td>\n",
       "      <td>0.0</td>\n",
       "      <td>0.0</td>\n",
       "    </tr>\n",
       "    <tr>\n",
       "      <th>14103</th>\n",
       "      <td>0.000</td>\n",
       "      <td>0.540</td>\n",
       "      <td>0.460</td>\n",
       "      <td>0.9834</td>\n",
       "      <td>1</td>\n",
       "      <td>265</td>\n",
       "      <td>43</td>\n",
       "      <td>-0.182447</td>\n",
       "      <td>0.632580</td>\n",
       "      <td>0.836142</td>\n",
       "      <td>...</td>\n",
       "      <td>0.0</td>\n",
       "      <td>0.0</td>\n",
       "      <td>0.0</td>\n",
       "      <td>0.0</td>\n",
       "      <td>0.0</td>\n",
       "      <td>0.0</td>\n",
       "      <td>0.0</td>\n",
       "      <td>0.0</td>\n",
       "      <td>0.0</td>\n",
       "      <td>0.0</td>\n",
       "    </tr>\n",
       "    <tr>\n",
       "      <th>25380</th>\n",
       "      <td>0.067</td>\n",
       "      <td>0.778</td>\n",
       "      <td>0.155</td>\n",
       "      <td>0.9313</td>\n",
       "      <td>1</td>\n",
       "      <td>684</td>\n",
       "      <td>98</td>\n",
       "      <td>0.510183</td>\n",
       "      <td>0.687961</td>\n",
       "      <td>1.059001</td>\n",
       "      <td>...</td>\n",
       "      <td>0.0</td>\n",
       "      <td>0.0</td>\n",
       "      <td>0.0</td>\n",
       "      <td>0.0</td>\n",
       "      <td>0.0</td>\n",
       "      <td>0.0</td>\n",
       "      <td>0.0</td>\n",
       "      <td>0.0</td>\n",
       "      <td>0.0</td>\n",
       "      <td>0.0</td>\n",
       "    </tr>\n",
       "    <tr>\n",
       "      <th>...</th>\n",
       "      <td>...</td>\n",
       "      <td>...</td>\n",
       "      <td>...</td>\n",
       "      <td>...</td>\n",
       "      <td>...</td>\n",
       "      <td>...</td>\n",
       "      <td>...</td>\n",
       "      <td>...</td>\n",
       "      <td>...</td>\n",
       "      <td>...</td>\n",
       "      <td>...</td>\n",
       "      <td>...</td>\n",
       "      <td>...</td>\n",
       "      <td>...</td>\n",
       "      <td>...</td>\n",
       "      <td>...</td>\n",
       "      <td>...</td>\n",
       "      <td>...</td>\n",
       "      <td>...</td>\n",
       "      <td>...</td>\n",
       "      <td>...</td>\n",
       "    </tr>\n",
       "    <tr>\n",
       "      <th>23487</th>\n",
       "      <td>0.197</td>\n",
       "      <td>0.556</td>\n",
       "      <td>0.248</td>\n",
       "      <td>0.5574</td>\n",
       "      <td>1</td>\n",
       "      <td>330</td>\n",
       "      <td>50</td>\n",
       "      <td>0.025483</td>\n",
       "      <td>0.731949</td>\n",
       "      <td>0.305771</td>\n",
       "      <td>...</td>\n",
       "      <td>0.0</td>\n",
       "      <td>0.0</td>\n",
       "      <td>0.0</td>\n",
       "      <td>0.0</td>\n",
       "      <td>0.0</td>\n",
       "      <td>0.0</td>\n",
       "      <td>0.0</td>\n",
       "      <td>0.0</td>\n",
       "      <td>0.0</td>\n",
       "      <td>0.0</td>\n",
       "    </tr>\n",
       "    <tr>\n",
       "      <th>29160</th>\n",
       "      <td>0.161</td>\n",
       "      <td>0.417</td>\n",
       "      <td>0.422</td>\n",
       "      <td>0.6124</td>\n",
       "      <td>1</td>\n",
       "      <td>71</td>\n",
       "      <td>12</td>\n",
       "      <td>-0.050668</td>\n",
       "      <td>0.211277</td>\n",
       "      <td>0.395006</td>\n",
       "      <td>...</td>\n",
       "      <td>0.0</td>\n",
       "      <td>0.0</td>\n",
       "      <td>0.0</td>\n",
       "      <td>0.0</td>\n",
       "      <td>0.0</td>\n",
       "      <td>0.0</td>\n",
       "      <td>0.0</td>\n",
       "      <td>0.0</td>\n",
       "      <td>0.0</td>\n",
       "      <td>0.0</td>\n",
       "    </tr>\n",
       "    <tr>\n",
       "      <th>7800</th>\n",
       "      <td>0.024</td>\n",
       "      <td>0.654</td>\n",
       "      <td>0.322</td>\n",
       "      <td>0.9750</td>\n",
       "      <td>1</td>\n",
       "      <td>431</td>\n",
       "      <td>68</td>\n",
       "      <td>-0.143738</td>\n",
       "      <td>0.522224</td>\n",
       "      <td>0.978003</td>\n",
       "      <td>...</td>\n",
       "      <td>0.0</td>\n",
       "      <td>0.0</td>\n",
       "      <td>0.0</td>\n",
       "      <td>0.0</td>\n",
       "      <td>0.0</td>\n",
       "      <td>0.0</td>\n",
       "      <td>0.0</td>\n",
       "      <td>0.0</td>\n",
       "      <td>0.0</td>\n",
       "      <td>0.0</td>\n",
       "    </tr>\n",
       "    <tr>\n",
       "      <th>15229</th>\n",
       "      <td>0.188</td>\n",
       "      <td>0.727</td>\n",
       "      <td>0.084</td>\n",
       "      <td>-0.9518</td>\n",
       "      <td>0</td>\n",
       "      <td>896</td>\n",
       "      <td>147</td>\n",
       "      <td>1.093039</td>\n",
       "      <td>0.447478</td>\n",
       "      <td>1.309254</td>\n",
       "      <td>...</td>\n",
       "      <td>0.0</td>\n",
       "      <td>0.0</td>\n",
       "      <td>0.0</td>\n",
       "      <td>0.0</td>\n",
       "      <td>0.0</td>\n",
       "      <td>0.0</td>\n",
       "      <td>0.0</td>\n",
       "      <td>0.0</td>\n",
       "      <td>0.0</td>\n",
       "      <td>0.0</td>\n",
       "    </tr>\n",
       "    <tr>\n",
       "      <th>6274</th>\n",
       "      <td>0.017</td>\n",
       "      <td>0.614</td>\n",
       "      <td>0.370</td>\n",
       "      <td>0.9833</td>\n",
       "      <td>1</td>\n",
       "      <td>393</td>\n",
       "      <td>63</td>\n",
       "      <td>0.033783</td>\n",
       "      <td>0.497274</td>\n",
       "      <td>0.429243</td>\n",
       "      <td>...</td>\n",
       "      <td>0.0</td>\n",
       "      <td>0.0</td>\n",
       "      <td>0.0</td>\n",
       "      <td>0.0</td>\n",
       "      <td>0.0</td>\n",
       "      <td>0.0</td>\n",
       "      <td>0.0</td>\n",
       "      <td>0.0</td>\n",
       "      <td>0.0</td>\n",
       "      <td>0.0</td>\n",
       "    </tr>\n",
       "  </tbody>\n",
       "</table>\n",
       "<p>8675 rows × 12586 columns</p>\n",
       "</div>"
      ],
      "text/plain": [
       "         neg    neu    pos  compound  predicted_label  nb_chars  nb_words  \\\n",
       "9797   0.103  0.701  0.197    0.9430                1       752       121   \n",
       "15219  0.195  0.627  0.178   -0.3164                0      1268       191   \n",
       "5928   0.031  0.515  0.454    0.9805                1       252        42   \n",
       "14103  0.000  0.540  0.460    0.9834                1       265        43   \n",
       "25380  0.067  0.778  0.155    0.9313                1       684        98   \n",
       "...      ...    ...    ...       ...              ...       ...       ...   \n",
       "23487  0.197  0.556  0.248    0.5574                1       330        50   \n",
       "29160  0.161  0.417  0.422    0.6124                1        71        12   \n",
       "7800   0.024  0.654  0.322    0.9750                1       431        68   \n",
       "15229  0.188  0.727  0.084   -0.9518                0       896       147   \n",
       "6274   0.017  0.614  0.370    0.9833                1       393        63   \n",
       "\n",
       "       doc2vec_vector_0  doc2vec_vector_1  doc2vec_vector_2  ...  word_zen  \\\n",
       "9797           0.129078          0.356881          0.227680  ...       0.0   \n",
       "15219          1.168869         -0.481284          0.911543  ...       0.0   \n",
       "5928          -0.093535          0.401283          0.108901  ...       0.0   \n",
       "14103         -0.182447          0.632580          0.836142  ...       0.0   \n",
       "25380          0.510183          0.687961          1.059001  ...       0.0   \n",
       "...                 ...               ...               ...  ...       ...   \n",
       "23487          0.025483          0.731949          0.305771  ...       0.0   \n",
       "29160         -0.050668          0.211277          0.395006  ...       0.0   \n",
       "7800          -0.143738          0.522224          0.978003  ...       0.0   \n",
       "15229          1.093039          0.447478          1.309254  ...       0.0   \n",
       "6274           0.033783          0.497274          0.429243  ...       0.0   \n",
       "\n",
       "       word_zenith  word_zero  word_zesty  word_zig  word_zip  word_zippo  \\\n",
       "9797           0.0        0.0         0.0       0.0       0.0         0.0   \n",
       "15219          0.0        0.0         0.0       0.0       0.0         0.0   \n",
       "5928           0.0        0.0         0.0       0.0       0.0         0.0   \n",
       "14103          0.0        0.0         0.0       0.0       0.0         0.0   \n",
       "25380          0.0        0.0         0.0       0.0       0.0         0.0   \n",
       "...            ...        ...         ...       ...       ...         ...   \n",
       "23487          0.0        0.0         0.0       0.0       0.0         0.0   \n",
       "29160          0.0        0.0         0.0       0.0       0.0         0.0   \n",
       "7800           0.0        0.0         0.0       0.0       0.0         0.0   \n",
       "15229          0.0        0.0         0.0       0.0       0.0         0.0   \n",
       "6274           0.0        0.0         0.0       0.0       0.0         0.0   \n",
       "\n",
       "       word_zombie  word_zone  word_zoo  \n",
       "9797           0.0        0.0       0.0  \n",
       "15219          0.0        0.0       0.0  \n",
       "5928           0.0        0.0       0.0  \n",
       "14103          0.0        0.0       0.0  \n",
       "25380          0.0        0.0       0.0  \n",
       "...            ...        ...       ...  \n",
       "23487          0.0        0.0       0.0  \n",
       "29160          0.0        0.0       0.0  \n",
       "7800           0.0        0.0       0.0  \n",
       "15229          0.0        0.0       0.0  \n",
       "6274           0.0        0.0       0.0  \n",
       "\n",
       "[8675 rows x 12586 columns]"
      ]
     },
     "execution_count": 96,
     "metadata": {},
     "output_type": "execute_result"
    }
   ],
   "source": [
    "X_train_dev"
   ]
  },
  {
   "cell_type": "code",
   "execution_count": 97,
   "id": "a7fbdd87-bc13-437b-aa64-3ca70b5761b2",
   "metadata": {},
   "outputs": [],
   "source": [
    "# training an SVC classifier\n",
    "svc_classifier = SVC(C=10, gamma=1, kernel='rbf')\n",
    "svc_classifier.fit(X_train_dev, y_train_dev)\n",
    "\n",
    "y_pred_svc = svc_classifier.predict(X_test_dev)"
   ]
  },
  {
   "cell_type": "code",
   "execution_count": 98,
   "id": "13db6bf8-f7aa-497f-870c-090c97fb6f47",
   "metadata": {},
   "outputs": [
    {
     "name": "stdout",
     "output_type": "stream",
     "text": [
      "Accuracy: 0.8280313508529276\n"
     ]
    }
   ],
   "source": [
    "# Calculate accuracy\n",
    "accuracy = accuracy_score(y_test_dev, y_pred_svc)\n",
    "print(\"Accuracy:\", accuracy)"
   ]
  },
  {
   "cell_type": "code",
   "execution_count": 99,
   "id": "b4f177b9-2cf6-41b8-82ec-ac8497440b71",
   "metadata": {},
   "outputs": [
    {
     "name": "stdout",
     "output_type": "stream",
     "text": [
      "F1 score: 0.8509490509490508\n",
      "              precision    recall  f1-score   support\n",
      "\n",
      "           0       1.00      0.66      0.80      4414\n",
      "           1       0.74      1.00      0.85      4262\n",
      "\n",
      "    accuracy                           0.83      8676\n",
      "   macro avg       0.87      0.83      0.82      8676\n",
      "weighted avg       0.87      0.83      0.82      8676\n",
      "\n"
     ]
    }
   ],
   "source": [
    "print(\"F1 score:\", f1_score(y_test_dev, y_pred_svc))\n",
    "print(classification_report(y_test_dev, y_pred_svc))"
   ]
  },
  {
   "cell_type": "markdown",
   "id": "23d3d17f",
   "metadata": {},
   "source": [
    "### 7. Trainig and testing the final method"
   ]
  },
  {
   "cell_type": "code",
   "execution_count": 100,
   "id": "3b4d743d-56ca-4ac0-9979-67f175e2a469",
   "metadata": {},
   "outputs": [
    {
     "name": "stdout",
     "output_type": "stream",
     "text": [
      "Accuracy: 0.9446717768428332\n"
     ]
    }
   ],
   "source": [
    "# training an SVC classifier\n",
    "svc_classifier = SVC(C=10, gamma=1, kernel='rbf')\n",
    "svc_classifier.fit(X_train, y_train)\n",
    "# Making predictions on the vectorized test set\n",
    "y_pred_svc = svc_classifier.predict(X_test)\n",
    "\n",
    "# Calculate accuracy\n",
    "accuracy = accuracy_score(y_test, y_pred_svc)\n",
    "print(\"Accuracy:\", accuracy)"
   ]
  },
  {
   "cell_type": "code",
   "execution_count": 102,
   "id": "69d78779-a1d9-418e-aefa-d5a2fd261dbb",
   "metadata": {},
   "outputs": [
    {
     "name": "stdout",
     "output_type": "stream",
     "text": [
      "F1 score: 0.947632555094916\n",
      "              precision    recall  f1-score   support\n",
      "\n",
      "           0       1.00      0.89      0.94      8664\n",
      "           1       0.90      1.00      0.95      8687\n",
      "\n",
      "    accuracy                           0.94     17351\n",
      "   macro avg       0.95      0.94      0.94     17351\n",
      "weighted avg       0.95      0.94      0.94     17351\n",
      "\n"
     ]
    }
   ],
   "source": [
    "print(\"F1 score:\", f1_score(y_test, y_pred_svc))\n",
    "print(classification_report(y_test, y_pred_svc))"
   ]
  },
  {
   "cell_type": "code",
   "execution_count": 104,
   "id": "f866edcc-8c1a-4b3f-9410-3a03625c1506",
   "metadata": {},
   "outputs": [],
   "source": [
    "# Compute ROC curve and ROC area for class 1\n",
    "from sklearn.metrics import roc_auc_score,roc_curve,auc\n",
    "\n",
    "fpr, tpr, _ = roc_curve(y_test, y_pred_svc)\n",
    "roc_auc = auc(fpr, tpr)"
   ]
  },
  {
   "cell_type": "code",
   "execution_count": 105,
   "id": "22dd657c-bf54-49e2-a49d-751d932ba27c",
   "metadata": {},
   "outputs": [
    {
     "data": {
      "image/png": "[encoded data removed]",
      "text/plain": [
       "<Figure size 1000x800 with 1 Axes>"
      ]
     },
     "metadata": {},
     "output_type": "display_data"
    }
   ],
   "source": [
    "# Plot ROC curve\n",
    "plt.figure(figsize=(10, 8))\n",
    "plt.plot(fpr, tpr, color='darkorange', lw=2, label='ROC curve (area = %0.2f)' % roc_auc)\n",
    "plt.plot([0, 1], [0, 1], color='navy', lw=2, linestyle='--')\n",
    "plt.xlim([0.0, 1.0])\n",
    "plt.ylim([0.0, 1.05])\n",
    "plt.xlabel('False Positive Rate')\n",
    "plt.ylabel('True Positive Rate')\n",
    "plt.title('Receiver Operating Characteristic (ROC) Curve')\n",
    "plt.legend(loc=\"lower right\")\n",
    "plt.show()"
   ]
  },
  {
   "cell_type": "code",
   "execution_count": 155,
   "id": "888db44a-de44-4af3-ae28-5afe7d40086e",
   "metadata": {},
   "outputs": [
    {
     "data": {
      "image/png": "[encoded data removed]",
      "text/plain": [
       "<Figure size 640x480 with 1 Axes>"
      ]
     },
     "metadata": {},
     "output_type": "display_data"
    }
   ],
   "source": [
    "mat2 = confusion_matrix(y_test,y_pred_svc)\n",
    "# Plot Confusion matrix\n",
    "sns.heatmap(mat2.T, square=True, annot=True, cbar=False, cmap=plt.cm.Blues, fmt='.0f')\n",
    "plt.xlabel('True label')\n",
    "plt.ylabel('Predicted label');\n",
    "plt.show();"
   ]
  },
  {
   "cell_type": "markdown",
   "id": "00bd6406-0cf7-4483-bec0-5d45f30b923f",
   "metadata": {},
   "source": [
    "**After comparing the models we can see SVM with VADER is more accurate for the given dataset. As a feature engineering, we added extra sentiment features using Vader to add account to the context of the sentences to determine the sentiment scores.[2] VADER is specifically designed for sentiment analyis, which focuses on the learning sentiment of the text rather than general classification.[5]**"
   ]
  },
  {
   "cell_type": "markdown",
   "id": "3bfb19df-69fd-4b59-bde8-d7a4f9be8076",
   "metadata": {},
   "source": [
    "| Metric         | Best Results from step 4  | Results After Using VADER |\n",
    "|----------------|----------------------------|----------------------------|\n",
    "| Accuracy       | 94.02%                     | 94.47%                     |\n",
    "| F1 Score       | 93.89%                     | 94.76%                     |\n",
    "| Precision (Class 0) | 94%                    | 100%                       |\n",
    "| Precision (Class 1) | 94%                    | 90%                        |\n",
    "| Recall (Class 0)    | 94%                    | 89%                        |\n",
    "| Recall (Class 1)    | 94%                    | 100%                       |\n",
    "| Support (Class 0)   | 4414 instances         | 8664 instances             |\n",
    "| Support (Class 1)   | 4262 instances         | 8687 instances             |"
   ]
  },
  {
   "cell_type": "markdown",
   "id": "e8993010",
   "metadata": {},
   "source": [
    "### 8. Reviews aspect prediction"
   ]
  },
  {
   "cell_type": "markdown",
   "id": "f0d407c0-3ff2-47ea-ac92-94c46ede81fe",
   "metadata": {},
   "source": [
    "**In the given dataset we have individual variables like service, cleanliness, overall, value, location, sleep quality, room etc. In order to find the rating of different aspects of a hotel, we can make a domain-specific sentiment analyzer. We train a separate model with 5 labels 0 to 5 for each aspect required. Then we pass the review text into all the models to get the rating. We can also use pre-trained models like RoBERTa and Bert to classify the keywords in the sentence.[1] Besides, we can use bidirectional LSTM to incorporate the sentiment.  We train separate models using labeled dataset, showing that we can utilize the review text as an input and corresponding aspect rating as target output. Then, we can fine-tune the models to capture domain-specific information. Once the model is trained we can integrate them into a pipeline and pass the text through all aspect-specific models to obtain a corresponding rating.**"
   ]
  },
  {
   "cell_type": "markdown",
   "id": "af38d9fc",
   "metadata": {},
   "source": [
    "### 9. References"
   ]
  },
  {
   "cell_type": "markdown",
   "id": "34db572d-fe58-445a-bb2b-ab8581c24182",
   "metadata": {},
   "source": [
    "[1] Y. Wahba, N. Madhavji, and J. Steinbacher, \"Attention Is not Always What You Need: Towards Efficient Classification of Domain-Specific Text: Case-Study: IT Support Tickets,\" in Intelligent Computing, Springer Nature Switzerland, 2023, pp. 1159-1166. DOI: 10.1007/978-3-031-37963-5_80."
   ]
  },
  {
   "cell_type": "markdown",
   "id": "51dc328b-93f6-46b4-9e9f-978c6bb12f21",
   "metadata": {},
   "source": [
    "[2] M. Mishra, M. Kang, and J. Woo, \"Rating Prediction using Deep Learning and Spark,\" in Proceedings of the 11th International Conference on Internet (ICONI), KSII, 2019."
   ]
  },
  {
   "cell_type": "markdown",
   "id": "ddc10ff9-2777-48c7-875d-24322447b3d2",
   "metadata": {},
   "source": [
    "[3] Analytics Vidhya, \"Predicting Hotel Reviews Ratings with TensorFlow,\" Medium, [https://medium.com/analytics-vidhya/predicting-the-ratings-of-reviews-of-a-hotel-using-machine-learning-bd756e6a9b9b]"
   ]
  },
  {
   "cell_type": "markdown",
   "id": "5ceecb95-548a-43a3-a809-af4b084df7f9",
   "metadata": {},
   "source": [
    "[4] Anis, Sarah & Ismail, Sally & Aref, Mostafa. (2020). Sentiment Analysis of Hotel Reviews Using Machine Learning Techniques. 10.1007/978-3-030-58669-0_21. "
   ]
  },
  {
   "cell_type": "markdown",
   "id": "c21002de-3056-4fe8-96f6-f0f332d5beb3",
   "metadata": {},
   "source": [
    "[5] Swarnkar, N. (2020, May 21). \"VADER Sentiment Analysis: A Complete Guide, Algo Trading and More.\" Sentiment Trading [https://blog.quantinsti.com/vader-sentiment/]"
   ]
  }
 ],
 "metadata": {
  "kernelspec": {
   "display_name": "Python 3 (ipykernel)",
   "language": "python",
   "name": "python3"
  },
  "language_info": {
   "codemirror_mode": {
    "name": "ipython",
    "version": 3
   },
   "file_extension": ".py",
   "mimetype": "text/x-python",
   "name": "python",
   "nbconvert_exporter": "python",
   "pygments_lexer": "ipython3",
   "version": "3.11.7"
  }
 },
 "nbformat": 4,
 "nbformat_minor": 5
}
